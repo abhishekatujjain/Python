{
 "cells": [
  {
   "cell_type": "code",
   "execution_count": 2,
   "id": "4cadae3c-9524-4b47-8b17-40c2072a2090",
   "metadata": {
    "tags": []
   },
   "outputs": [
    {
     "name": "stdout",
     "output_type": "stream",
     "text": [
      "C:\\Users\\SVVV\\jy notebook\n"
     ]
    }
   ],
   "source": [
    "import os\n",
    "print(os.getcwd())\n"
   ]
  },
  {
   "cell_type": "code",
   "execution_count": 8,
   "id": "e0348494-2cd2-459c-99ce-8b07d848d08d",
   "metadata": {
    "tags": []
   },
   "outputs": [
    {
     "name": "stdout",
     "output_type": "stream",
     "text": [
      "E:\\\n"
     ]
    }
   ],
   "source": [
    "os.chdir(\"E:\")\n",
    "print(os.getcwd())"
   ]
  },
  {
   "cell_type": "code",
   "execution_count": 14,
   "id": "a097dc36-3c45-4381-81d5-59c6add16f8e",
   "metadata": {
    "tags": []
   },
   "outputs": [
    {
     "data": {
      "text/plain": [
       "'C:\\\\Users\\\\SVVV\\\\jy notebook'"
      ]
     },
     "execution_count": 14,
     "metadata": {},
     "output_type": "execute_result"
    }
   ],
   "source": [
    "os.chdir(r\"C:\\Users\\SVVV\\jy notebook\")\n",
    "os.getcwd()"
   ]
  },
  {
   "cell_type": "code",
   "execution_count": 3,
   "id": "0748ff78-fcd9-4aa5-89f5-2aff2e72c379",
   "metadata": {},
   "outputs": [],
   "source": [
    "import pandas as pd\n",
    "\n",
    "df = pd.read_csv(\"gapminder-FiveYearData.csv\")"
   ]
  },
  {
   "cell_type": "code",
   "execution_count": 20,
   "id": "7cad0427-5fd2-4396-80e9-00b2992d6c1f",
   "metadata": {
    "tags": []
   },
   "outputs": [
    {
     "name": "stdout",
     "output_type": "stream",
     "text": [
      "(1704, 6)\n",
      "10224\n",
      "hi\n"
     ]
    }
   ],
   "source": [
    "print(df.shape)\n",
    "print(df.size)\n",
    "print('hi')"
   ]
  },
  {
   "cell_type": "code",
   "execution_count": 14,
   "id": "b60537e7-4bbf-4ba2-90af-76fdaee77ea7",
   "metadata": {
    "tags": []
   },
   "outputs": [
    {
     "data": {
      "text/html": [
       "<div>\n",
       "<style scoped>\n",
       "    .dataframe tbody tr th:only-of-type {\n",
       "        vertical-align: middle;\n",
       "    }\n",
       "\n",
       "    .dataframe tbody tr th {\n",
       "        vertical-align: top;\n",
       "    }\n",
       "\n",
       "    .dataframe thead th {\n",
       "        text-align: right;\n",
       "    }\n",
       "</style>\n",
       "<table border=\"1\" class=\"dataframe\">\n",
       "  <thead>\n",
       "    <tr style=\"text-align: right;\">\n",
       "      <th></th>\n",
       "      <th>country</th>\n",
       "      <th>year</th>\n",
       "      <th>pop</th>\n",
       "      <th>continent</th>\n",
       "      <th>lifeExp</th>\n",
       "      <th>gdpPercap</th>\n",
       "    </tr>\n",
       "  </thead>\n",
       "  <tbody>\n",
       "    <tr>\n",
       "      <th>0</th>\n",
       "      <td>Afghanistan</td>\n",
       "      <td>1952</td>\n",
       "      <td>8425333.0</td>\n",
       "      <td>Asia</td>\n",
       "      <td>28.801</td>\n",
       "      <td>779.445314</td>\n",
       "    </tr>\n",
       "    <tr>\n",
       "      <th>1</th>\n",
       "      <td>Afghanistan</td>\n",
       "      <td>1957</td>\n",
       "      <td>9240934.0</td>\n",
       "      <td>Asia</td>\n",
       "      <td>30.332</td>\n",
       "      <td>820.853030</td>\n",
       "    </tr>\n",
       "    <tr>\n",
       "      <th>2</th>\n",
       "      <td>Afghanistan</td>\n",
       "      <td>1962</td>\n",
       "      <td>10267083.0</td>\n",
       "      <td>Asia</td>\n",
       "      <td>31.997</td>\n",
       "      <td>853.100710</td>\n",
       "    </tr>\n",
       "    <tr>\n",
       "      <th>3</th>\n",
       "      <td>Afghanistan</td>\n",
       "      <td>1967</td>\n",
       "      <td>11537966.0</td>\n",
       "      <td>Asia</td>\n",
       "      <td>34.020</td>\n",
       "      <td>836.197138</td>\n",
       "    </tr>\n",
       "    <tr>\n",
       "      <th>4</th>\n",
       "      <td>Afghanistan</td>\n",
       "      <td>1972</td>\n",
       "      <td>13079460.0</td>\n",
       "      <td>Asia</td>\n",
       "      <td>36.088</td>\n",
       "      <td>739.981106</td>\n",
       "    </tr>\n",
       "  </tbody>\n",
       "</table>\n",
       "</div>"
      ],
      "text/plain": [
       "       country  year         pop continent  lifeExp   gdpPercap\n",
       "0  Afghanistan  1952   8425333.0      Asia   28.801  779.445314\n",
       "1  Afghanistan  1957   9240934.0      Asia   30.332  820.853030\n",
       "2  Afghanistan  1962  10267083.0      Asia   31.997  853.100710\n",
       "3  Afghanistan  1967  11537966.0      Asia   34.020  836.197138\n",
       "4  Afghanistan  1972  13079460.0      Asia   36.088  739.981106"
      ]
     },
     "execution_count": 14,
     "metadata": {},
     "output_type": "execute_result"
    }
   ],
   "source": [
    "df.head()"
   ]
  },
  {
   "cell_type": "code",
   "execution_count": 16,
   "id": "3bc57765-b838-4eb8-bf69-79b055d6e6fb",
   "metadata": {
    "tags": []
   },
   "outputs": [
    {
     "data": {
      "text/plain": [
       "Index(['country', 'year', 'pop', 'continent', 'lifeExp', 'gdpPercap'], dtype='object')"
      ]
     },
     "execution_count": 16,
     "metadata": {},
     "output_type": "execute_result"
    }
   ],
   "source": [
    "df.columns"
   ]
  },
  {
   "cell_type": "code",
   "execution_count": 18,
   "id": "26632140-7449-40d3-bb61-92771da8d5f5",
   "metadata": {},
   "outputs": [
    {
     "name": "stdout",
     "output_type": "stream",
     "text": [
      "Number of unique countries 142\n",
      "list of countries ['Afghanistan' 'Albania' 'Algeria' 'Angola' 'Argentina' 'Australia'\n",
      " 'Austria' 'Bahrain' 'Bangladesh' 'Belgium' 'Benin' 'Bolivia'\n",
      " 'Bosnia and Herzegovina' 'Botswana' 'Brazil' 'Bulgaria' 'Burkina Faso'\n",
      " 'Burundi' 'Cambodia' 'Cameroon' 'Canada' 'Central African Republic'\n",
      " 'Chad' 'Chile' 'China' 'Colombia' 'Comoros' 'Congo Dem. Rep.'\n",
      " 'Congo Rep.' 'Costa Rica' \"Cote d'Ivoire\" 'Croatia' 'Cuba'\n",
      " 'Czech Republic' 'Denmark' 'Djibouti' 'Dominican Republic' 'Ecuador'\n",
      " 'Egypt' 'El Salvador' 'Equatorial Guinea' 'Eritrea' 'Ethiopia' 'Finland'\n",
      " 'France' 'Gabon' 'Gambia' 'Germany' 'Ghana' 'Greece' 'Guatemala' 'Guinea'\n",
      " 'Guinea-Bissau' 'Haiti' 'Honduras' 'Hong Kong China' 'Hungary' 'Iceland'\n",
      " 'India' 'Indonesia' 'Iran' 'Iraq' 'Ireland' 'Israel' 'Italy' 'Jamaica'\n",
      " 'Japan' 'Jordan' 'Kenya' 'Korea Dem. Rep.' 'Korea Rep.' 'Kuwait'\n",
      " 'Lebanon' 'Lesotho' 'Liberia' 'Libya' 'Madagascar' 'Malawi' 'Malaysia'\n",
      " 'Mali' 'Mauritania' 'Mauritius' 'Mexico' 'Mongolia' 'Montenegro'\n",
      " 'Morocco' 'Mozambique' 'Myanmar' 'Namibia' 'Nepal' 'Netherlands'\n",
      " 'New Zealand' 'Nicaragua' 'Niger' 'Nigeria' 'Norway' 'Oman' 'Pakistan'\n",
      " 'Panama' 'Paraguay' 'Peru' 'Philippines' 'Poland' 'Portugal'\n",
      " 'Puerto Rico' 'Reunion' 'Romania' 'Rwanda' 'Sao Tome and Principe'\n",
      " 'Saudi Arabia' 'Senegal' 'Serbia' 'Sierra Leone' 'Singapore'\n",
      " 'Slovak Republic' 'Slovenia' 'Somalia' 'South Africa' 'Spain' 'Sri Lanka'\n",
      " 'Sudan' 'Swaziland' 'Sweden' 'Switzerland' 'Syria' 'Taiwan' 'Tanzania'\n",
      " 'Thailand' 'Togo' 'Trinidad and Tobago' 'Tunisia' 'Turkey' 'Uganda'\n",
      " 'United Kingdom' 'United States' 'Uruguay' 'Venezuela' 'Vietnam'\n",
      " 'West Bank and Gaza' 'Yemen Rep.' 'Zambia' 'Zimbabwe']\n"
     ]
    }
   ],
   "source": [
    "print('Number of unique countries', df['country'].nunique())\n",
    "print('list of countries', df['country'].unique())"
   ]
  },
  {
   "cell_type": "code",
   "execution_count": 38,
   "id": "98ec7da5-599a-4b4c-8fd6-6dba95a9272e",
   "metadata": {
    "tags": []
   },
   "outputs": [
    {
     "name": "stdout",
     "output_type": "stream",
     "text": [
      "shape of new data (1704, 7)\n"
     ]
    }
   ],
   "source": [
    "#copying the data\n",
    "mydf = df.copy()\n",
    "\n",
    "#adding  new column\n",
    "mydf['new'] = list(range(1,1705))\n",
    "print('shape of new data', mydf.shape)"
   ]
  },
  {
   "cell_type": "code",
   "execution_count": 24,
   "id": "63acb3fb-85e9-4181-8874-a583457f165b",
   "metadata": {
    "tags": []
   },
   "outputs": [
    {
     "name": "stdout",
     "output_type": "stream",
     "text": [
      "Index(['country', 'year', 'pop', 'continent', 'lifeExp', 'gdpPercap', 'new'], dtype='object')\n",
      "after droping columns Index(['country', 'year', 'pop', 'continent', 'lifeExp', 'gdpPercap'], dtype='object')\n"
     ]
    }
   ],
   "source": [
    "print(mydf.columns)\n",
    "# dropping new column\n",
    "mydf = mydf.drop(columns =['new'])\n",
    "print('after droping columns',mydf.columns)"
   ]
  },
  {
   "cell_type": "code",
   "execution_count": 40,
   "id": "c824c21b-ffc3-4873-8d6a-2945ec3acb64",
   "metadata": {
    "tags": []
   },
   "outputs": [
    {
     "name": "stdout",
     "output_type": "stream",
     "text": [
      "first 5 rows \n",
      "        country  year         pop continent  lifeExp   gdpPercap  new\n",
      "0  Afghanistan  1952   8425333.0      Asia   28.801  779.445314    1\n",
      "1  Afghanistan  1957   9240934.0      Asia   30.332  820.853030    2\n",
      "2  Afghanistan  1962  10267083.0      Asia   31.997  853.100710    3\n",
      "3  Afghanistan  1967  11537966.0      Asia   34.020  836.197138    4\n",
      "4  Afghanistan  1972  13079460.0      Asia   36.088  739.981106    5\n",
      "after deletion 5 rows \n",
      "        country  year         pop continent  lifeExp   gdpPercap  new\n",
      "1  Afghanistan  1957   9240934.0      Asia   30.332  820.853030    2\n",
      "2  Afghanistan  1962  10267083.0      Asia   31.997  853.100710    3\n",
      "4  Afghanistan  1972  13079460.0      Asia   36.088  739.981106    5\n",
      "5  Afghanistan  1977  14880372.0      Asia   38.438  786.113360    6\n",
      "6  Afghanistan  1982  12881816.0      Asia   39.854  978.011439    7\n"
     ]
    }
   ],
   "source": [
    "print('first 5 rows \\n',mydf.head(5))\n",
    "#deleting row at index 0 and 3\n",
    "mydf = mydf.drop(index =[0,3])\n",
    "print('after deletion 5 rows \\n',mydf.head(5))"
   ]
  },
  {
   "cell_type": "code",
   "execution_count": 43,
   "id": "33fb91bb-0b46-4d46-87dc-0d228d4520d4",
   "metadata": {
    "tags": []
   },
   "outputs": [
    {
     "name": "stdout",
     "output_type": "stream",
     "text": [
      "mean life exp 59.474439366197174\n",
      "median 60.7125\n",
      "max life exp 82.603\n",
      "min life exp 23.599\n"
     ]
    }
   ],
   "source": [
    "# mathematical and statistical functions\n",
    "#mean\n",
    "print('mean life exp', df['lifeExp'].mean())\n",
    "\n",
    "#median\n",
    "print('median', df['lifeExp'].median())\n",
    "\n",
    "#max\n",
    "print('max life exp', df['lifeExp'].max())\n",
    "\n",
    "#min\n",
    "print('min life exp', df['lifeExp'].min())"
   ]
  },
  {
   "cell_type": "code",
   "execution_count": 49,
   "id": "d191632f-7375-48ca-b23f-8d36b5b7be9e",
   "metadata": {
    "tags": []
   },
   "outputs": [
    {
     "name": "stdout",
     "output_type": "stream",
     "text": [
      "total life exp 101344.44467999999\n",
      "3 smallest values of life exp \n",
      " 1292    23.599\n",
      "0       28.801\n",
      "552     30.000\n",
      "Name: lifeExp, dtype: float64\n",
      "4 largest values \n",
      " 803    82.603\n",
      "671    82.208\n",
      "802    82.000\n",
      "695    81.757\n",
      "Name: lifeExp, dtype: float64\n"
     ]
    }
   ],
   "source": [
    "# sum\n",
    "print('total life exp', df['lifeExp'].sum())\n",
    "\n",
    "#3 smallest values\n",
    "print('3 smallest values of life exp \\n', df['lifeExp'].nsmallest().head(3))\n",
    "\n",
    "# 4 largest values\n",
    "print('4 largest values \\n', df['lifeExp'].nlargest().head(4))\n"
   ]
  },
  {
   "cell_type": "code",
   "execution_count": 55,
   "id": "c053785a-4dc7-4ae2-ba9e-caee0b29db25",
   "metadata": {
    "tags": []
   },
   "outputs": [
    {
     "name": "stdout",
     "output_type": "stream",
     "text": [
      "0.06495536916041658\n"
     ]
    }
   ],
   "source": [
    "# correlation between cont variables\n",
    "\n",
    "\n",
    "print(df['pop'].corr(df['lifeExp']))"
   ]
  },
  {
   "cell_type": "code",
   "execution_count": 5,
   "id": "8b9bc198-f777-425b-8a55-fa35dcb5ad48",
   "metadata": {
    "tags": []
   },
   "outputs": [
    {
     "data": {
      "text/html": [
       "<div>\n",
       "<style scoped>\n",
       "    .dataframe tbody tr th:only-of-type {\n",
       "        vertical-align: middle;\n",
       "    }\n",
       "\n",
       "    .dataframe tbody tr th {\n",
       "        vertical-align: top;\n",
       "    }\n",
       "\n",
       "    .dataframe thead th {\n",
       "        text-align: right;\n",
       "    }\n",
       "</style>\n",
       "<table border=\"1\" class=\"dataframe\">\n",
       "  <thead>\n",
       "    <tr style=\"text-align: right;\">\n",
       "      <th></th>\n",
       "      <th>year</th>\n",
       "      <th>pop</th>\n",
       "      <th>lifeExp</th>\n",
       "      <th>gdpPercap</th>\n",
       "    </tr>\n",
       "  </thead>\n",
       "  <tbody>\n",
       "    <tr>\n",
       "      <th>0</th>\n",
       "      <td>1952</td>\n",
       "      <td>8425333.0</td>\n",
       "      <td>28.801</td>\n",
       "      <td>779.445314</td>\n",
       "    </tr>\n",
       "    <tr>\n",
       "      <th>1</th>\n",
       "      <td>1957</td>\n",
       "      <td>9240934.0</td>\n",
       "      <td>30.332</td>\n",
       "      <td>820.853030</td>\n",
       "    </tr>\n",
       "    <tr>\n",
       "      <th>2</th>\n",
       "      <td>1962</td>\n",
       "      <td>10267083.0</td>\n",
       "      <td>31.997</td>\n",
       "      <td>853.100710</td>\n",
       "    </tr>\n",
       "    <tr>\n",
       "      <th>3</th>\n",
       "      <td>1967</td>\n",
       "      <td>11537966.0</td>\n",
       "      <td>34.020</td>\n",
       "      <td>836.197138</td>\n",
       "    </tr>\n",
       "    <tr>\n",
       "      <th>4</th>\n",
       "      <td>1972</td>\n",
       "      <td>13079460.0</td>\n",
       "      <td>36.088</td>\n",
       "      <td>739.981106</td>\n",
       "    </tr>\n",
       "  </tbody>\n",
       "</table>\n",
       "</div>"
      ],
      "text/plain": [
       "   year         pop  lifeExp   gdpPercap\n",
       "0  1952   8425333.0   28.801  779.445314\n",
       "1  1957   9240934.0   30.332  820.853030\n",
       "2  1962  10267083.0   31.997  853.100710\n",
       "3  1967  11537966.0   34.020  836.197138\n",
       "4  1972  13079460.0   36.088  739.981106"
      ]
     },
     "execution_count": 5,
     "metadata": {},
     "output_type": "execute_result"
    }
   ],
   "source": [
    "newdf = df[['year','pop','lifeExp','gdpPercap']].copy()\n",
    "newdf.head()"
   ]
  },
  {
   "cell_type": "code",
   "execution_count": 63,
   "id": "cd0f26d6-0043-438d-9f9a-f2c7fc31931b",
   "metadata": {
    "tags": []
   },
   "outputs": [
    {
     "name": "stdout",
     "output_type": "stream",
     "text": [
      "correlation\n",
      "                year       pop   lifeExp  gdpPercap\n",
      "year       1.000000  0.082308  0.435611   0.227318\n",
      "pop        0.082308  1.000000  0.064955  -0.025600\n",
      "lifeExp    0.435611  0.064955  1.000000   0.583706\n",
      "gdpPercap  0.227318 -0.025600  0.583706   1.000000\n"
     ]
    }
   ],
   "source": [
    "print('correlation\\n', newdf.corr())"
   ]
  },
  {
   "cell_type": "code",
   "execution_count": 65,
   "id": "0867560c-37e0-4c83-9f5c-d9f546d98a22",
   "metadata": {
    "tags": []
   },
   "outputs": [
    {
     "data": {
      "text/html": [
       "<div>\n",
       "<style scoped>\n",
       "    .dataframe tbody tr th:only-of-type {\n",
       "        vertical-align: middle;\n",
       "    }\n",
       "\n",
       "    .dataframe tbody tr th {\n",
       "        vertical-align: top;\n",
       "    }\n",
       "\n",
       "    .dataframe thead th {\n",
       "        text-align: right;\n",
       "    }\n",
       "</style>\n",
       "<table border=\"1\" class=\"dataframe\">\n",
       "  <thead>\n",
       "    <tr style=\"text-align: right;\">\n",
       "      <th></th>\n",
       "      <th>year</th>\n",
       "      <th>pop</th>\n",
       "      <th>lifeExp</th>\n",
       "      <th>gdpPercap</th>\n",
       "    </tr>\n",
       "  </thead>\n",
       "  <tbody>\n",
       "    <tr>\n",
       "      <th>year</th>\n",
       "      <td>1.000000</td>\n",
       "      <td>0.082308</td>\n",
       "      <td>0.435611</td>\n",
       "      <td>0.227318</td>\n",
       "    </tr>\n",
       "    <tr>\n",
       "      <th>pop</th>\n",
       "      <td>0.082308</td>\n",
       "      <td>1.000000</td>\n",
       "      <td>0.064955</td>\n",
       "      <td>-0.025600</td>\n",
       "    </tr>\n",
       "    <tr>\n",
       "      <th>lifeExp</th>\n",
       "      <td>0.435611</td>\n",
       "      <td>0.064955</td>\n",
       "      <td>1.000000</td>\n",
       "      <td>0.583706</td>\n",
       "    </tr>\n",
       "    <tr>\n",
       "      <th>gdpPercap</th>\n",
       "      <td>0.227318</td>\n",
       "      <td>-0.025600</td>\n",
       "      <td>0.583706</td>\n",
       "      <td>1.000000</td>\n",
       "    </tr>\n",
       "  </tbody>\n",
       "</table>\n",
       "</div>"
      ],
      "text/plain": [
       "               year       pop   lifeExp  gdpPercap\n",
       "year       1.000000  0.082308  0.435611   0.227318\n",
       "pop        0.082308  1.000000  0.064955  -0.025600\n",
       "lifeExp    0.435611  0.064955  1.000000   0.583706\n",
       "gdpPercap  0.227318 -0.025600  0.583706   1.000000"
      ]
     },
     "execution_count": 65,
     "metadata": {},
     "output_type": "execute_result"
    }
   ],
   "source": [
    "newdf.corr(method='pearson')"
   ]
  },
  {
   "cell_type": "code",
   "execution_count": 70,
   "id": "0cb326b9-e436-41f1-b8a0-b11fe74c8cbd",
   "metadata": {
    "tags": []
   },
   "outputs": [
    {
     "data": {
      "text/html": [
       "<div>\n",
       "<style scoped>\n",
       "    .dataframe tbody tr th:only-of-type {\n",
       "        vertical-align: middle;\n",
       "    }\n",
       "\n",
       "    .dataframe tbody tr th {\n",
       "        vertical-align: top;\n",
       "    }\n",
       "\n",
       "    .dataframe thead th {\n",
       "        text-align: right;\n",
       "    }\n",
       "</style>\n",
       "<table border=\"1\" class=\"dataframe\">\n",
       "  <thead>\n",
       "    <tr style=\"text-align: right;\">\n",
       "      <th></th>\n",
       "      <th>year</th>\n",
       "      <th>pop</th>\n",
       "      <th>lifeExp</th>\n",
       "      <th>gdpPercap</th>\n",
       "    </tr>\n",
       "  </thead>\n",
       "  <tbody>\n",
       "    <tr>\n",
       "      <th>year</th>\n",
       "      <td>1.000000</td>\n",
       "      <td>0.154340</td>\n",
       "      <td>0.323767</td>\n",
       "      <td>0.161669</td>\n",
       "    </tr>\n",
       "    <tr>\n",
       "      <th>pop</th>\n",
       "      <td>0.154340</td>\n",
       "      <td>1.000000</td>\n",
       "      <td>0.123092</td>\n",
       "      <td>0.037572</td>\n",
       "    </tr>\n",
       "    <tr>\n",
       "      <th>lifeExp</th>\n",
       "      <td>0.323767</td>\n",
       "      <td>0.123092</td>\n",
       "      <td>1.000000</td>\n",
       "      <td>0.636911</td>\n",
       "    </tr>\n",
       "    <tr>\n",
       "      <th>gdpPercap</th>\n",
       "      <td>0.161669</td>\n",
       "      <td>0.037572</td>\n",
       "      <td>0.636911</td>\n",
       "      <td>1.000000</td>\n",
       "    </tr>\n",
       "  </tbody>\n",
       "</table>\n",
       "</div>"
      ],
      "text/plain": [
       "               year       pop   lifeExp  gdpPercap\n",
       "year       1.000000  0.154340  0.323767   0.161669\n",
       "pop        0.154340  1.000000  0.123092   0.037572\n",
       "lifeExp    0.323767  0.123092  1.000000   0.636911\n",
       "gdpPercap  0.161669  0.037572  0.636911   1.000000"
      ]
     },
     "execution_count": 70,
     "metadata": {},
     "output_type": "execute_result"
    }
   ],
   "source": [
    "newdf.corr(method='kendall')"
   ]
  },
  {
   "cell_type": "code",
   "execution_count": 7,
   "id": "8b7116fe-17a6-406d-8c39-27421df0b2b7",
   "metadata": {},
   "outputs": [
    {
     "data": {
      "text/html": [
       "<div>\n",
       "<style scoped>\n",
       "    .dataframe tbody tr th:only-of-type {\n",
       "        vertical-align: middle;\n",
       "    }\n",
       "\n",
       "    .dataframe tbody tr th {\n",
       "        vertical-align: top;\n",
       "    }\n",
       "\n",
       "    .dataframe thead th {\n",
       "        text-align: right;\n",
       "    }\n",
       "</style>\n",
       "<table border=\"1\" class=\"dataframe\">\n",
       "  <thead>\n",
       "    <tr style=\"text-align: right;\">\n",
       "      <th></th>\n",
       "      <th>year</th>\n",
       "      <th>pop</th>\n",
       "      <th>lifeExp</th>\n",
       "      <th>gdpPercap</th>\n",
       "    </tr>\n",
       "  </thead>\n",
       "  <tbody>\n",
       "    <tr>\n",
       "      <th>year</th>\n",
       "      <td>1.000000</td>\n",
       "      <td>0.154340</td>\n",
       "      <td>0.323767</td>\n",
       "      <td>0.161669</td>\n",
       "    </tr>\n",
       "    <tr>\n",
       "      <th>pop</th>\n",
       "      <td>0.154340</td>\n",
       "      <td>1.000000</td>\n",
       "      <td>0.123092</td>\n",
       "      <td>0.037572</td>\n",
       "    </tr>\n",
       "    <tr>\n",
       "      <th>lifeExp</th>\n",
       "      <td>0.323767</td>\n",
       "      <td>0.123092</td>\n",
       "      <td>1.000000</td>\n",
       "      <td>0.636911</td>\n",
       "    </tr>\n",
       "    <tr>\n",
       "      <th>gdpPercap</th>\n",
       "      <td>0.161669</td>\n",
       "      <td>0.037572</td>\n",
       "      <td>0.636911</td>\n",
       "      <td>1.000000</td>\n",
       "    </tr>\n",
       "  </tbody>\n",
       "</table>\n",
       "</div>"
      ],
      "text/plain": [
       "               year       pop   lifeExp  gdpPercap\n",
       "year       1.000000  0.154340  0.323767   0.161669\n",
       "pop        0.154340  1.000000  0.123092   0.037572\n",
       "lifeExp    0.323767  0.123092  1.000000   0.636911\n",
       "gdpPercap  0.161669  0.037572  0.636911   1.000000"
      ]
     },
     "execution_count": 7,
     "metadata": {},
     "output_type": "execute_result"
    }
   ],
   "source": [
    "newdf.corr(method='kendall')"
   ]
  },
  {
   "cell_type": "code",
   "execution_count": 9,
   "id": "aae41ff4-8544-40f9-bc34-f63fdd36c809",
   "metadata": {
    "tags": []
   },
   "outputs": [
    {
     "data": {
      "text/html": [
       "<div>\n",
       "<style scoped>\n",
       "    .dataframe tbody tr th:only-of-type {\n",
       "        vertical-align: middle;\n",
       "    }\n",
       "\n",
       "    .dataframe tbody tr th {\n",
       "        vertical-align: top;\n",
       "    }\n",
       "\n",
       "    .dataframe thead th {\n",
       "        text-align: right;\n",
       "    }\n",
       "</style>\n",
       "<table border=\"1\" class=\"dataframe\">\n",
       "  <thead>\n",
       "    <tr style=\"text-align: right;\">\n",
       "      <th></th>\n",
       "      <th>country</th>\n",
       "      <th>year</th>\n",
       "      <th>pop</th>\n",
       "      <th>continent</th>\n",
       "      <th>lifeExp</th>\n",
       "      <th>gdpPercap</th>\n",
       "    </tr>\n",
       "  </thead>\n",
       "  <tbody>\n",
       "    <tr>\n",
       "      <th>1297</th>\n",
       "      <td>Sao Tome and Principe</td>\n",
       "      <td>1957</td>\n",
       "      <td>61325.0</td>\n",
       "      <td>Africa</td>\n",
       "      <td>48.945</td>\n",
       "      <td>860.736903</td>\n",
       "    </tr>\n",
       "    <tr>\n",
       "      <th>1296</th>\n",
       "      <td>Sao Tome and Principe</td>\n",
       "      <td>1952</td>\n",
       "      <td>60011.0</td>\n",
       "      <td>Africa</td>\n",
       "      <td>46.471</td>\n",
       "      <td>879.583586</td>\n",
       "    </tr>\n",
       "  </tbody>\n",
       "</table>\n",
       "</div>"
      ],
      "text/plain": [
       "                    country  year      pop continent  lifeExp   gdpPercap\n",
       "1297  Sao Tome and Principe  1957  61325.0    Africa   48.945  860.736903\n",
       "1296  Sao Tome and Principe  1952  60011.0    Africa   46.471  879.583586"
      ]
     },
     "execution_count": 9,
     "metadata": {},
     "output_type": "execute_result"
    }
   ],
   "source": [
    "#sorting\n",
    "df.sort_values(by= 'pop', ascending = False).tail(2)"
   ]
  },
  {
   "cell_type": "code",
   "execution_count": 11,
   "id": "835066f3-c47d-48d2-b524-d372ecc3b688",
   "metadata": {
    "tags": []
   },
   "outputs": [
    {
     "data": {
      "text/html": [
       "<div>\n",
       "<style scoped>\n",
       "    .dataframe tbody tr th:only-of-type {\n",
       "        vertical-align: middle;\n",
       "    }\n",
       "\n",
       "    .dataframe tbody tr th {\n",
       "        vertical-align: top;\n",
       "    }\n",
       "\n",
       "    .dataframe thead th {\n",
       "        text-align: right;\n",
       "    }\n",
       "</style>\n",
       "<table border=\"1\" class=\"dataframe\">\n",
       "  <thead>\n",
       "    <tr style=\"text-align: right;\">\n",
       "      <th></th>\n",
       "      <th>country</th>\n",
       "      <th>year</th>\n",
       "      <th>pop</th>\n",
       "      <th>continent</th>\n",
       "      <th>lifeExp</th>\n",
       "      <th>gdpPercap</th>\n",
       "    </tr>\n",
       "  </thead>\n",
       "  <tbody>\n",
       "    <tr>\n",
       "      <th>299</th>\n",
       "      <td>China</td>\n",
       "      <td>2007</td>\n",
       "      <td>1.318683e+09</td>\n",
       "      <td>Asia</td>\n",
       "      <td>72.961</td>\n",
       "      <td>4959.114854</td>\n",
       "    </tr>\n",
       "    <tr>\n",
       "      <th>298</th>\n",
       "      <td>China</td>\n",
       "      <td>2002</td>\n",
       "      <td>1.280400e+09</td>\n",
       "      <td>Asia</td>\n",
       "      <td>72.028</td>\n",
       "      <td>3119.280896</td>\n",
       "    </tr>\n",
       "    <tr>\n",
       "      <th>297</th>\n",
       "      <td>China</td>\n",
       "      <td>1997</td>\n",
       "      <td>1.230075e+09</td>\n",
       "      <td>Asia</td>\n",
       "      <td>70.426</td>\n",
       "      <td>2289.234136</td>\n",
       "    </tr>\n",
       "    <tr>\n",
       "      <th>296</th>\n",
       "      <td>China</td>\n",
       "      <td>1992</td>\n",
       "      <td>1.164970e+09</td>\n",
       "      <td>Asia</td>\n",
       "      <td>68.690</td>\n",
       "      <td>1655.784158</td>\n",
       "    </tr>\n",
       "    <tr>\n",
       "      <th>707</th>\n",
       "      <td>India</td>\n",
       "      <td>2007</td>\n",
       "      <td>1.110396e+09</td>\n",
       "      <td>Asia</td>\n",
       "      <td>64.698</td>\n",
       "      <td>2452.210407</td>\n",
       "    </tr>\n",
       "  </tbody>\n",
       "</table>\n",
       "</div>"
      ],
      "text/plain": [
       "    country  year           pop continent  lifeExp    gdpPercap\n",
       "299   China  2007  1.318683e+09      Asia   72.961  4959.114854\n",
       "298   China  2002  1.280400e+09      Asia   72.028  3119.280896\n",
       "297   China  1997  1.230075e+09      Asia   70.426  2289.234136\n",
       "296   China  1992  1.164970e+09      Asia   68.690  1655.784158\n",
       "707   India  2007  1.110396e+09      Asia   64.698  2452.210407"
      ]
     },
     "execution_count": 11,
     "metadata": {},
     "output_type": "execute_result"
    }
   ],
   "source": [
    "df.sort_values(by= 'pop', ascending = False).head(5)"
   ]
  },
  {
   "cell_type": "code",
   "execution_count": 13,
   "id": "a3e8ed28-68f3-4ffb-9c07-475e39089bba",
   "metadata": {
    "tags": []
   },
   "outputs": [
    {
     "data": {
      "text/html": [
       "<div>\n",
       "<style scoped>\n",
       "    .dataframe tbody tr th:only-of-type {\n",
       "        vertical-align: middle;\n",
       "    }\n",
       "\n",
       "    .dataframe tbody tr th {\n",
       "        vertical-align: top;\n",
       "    }\n",
       "\n",
       "    .dataframe thead th {\n",
       "        text-align: right;\n",
       "    }\n",
       "</style>\n",
       "<table border=\"1\" class=\"dataframe\">\n",
       "  <thead>\n",
       "    <tr style=\"text-align: right;\">\n",
       "      <th></th>\n",
       "      <th>country</th>\n",
       "      <th>year</th>\n",
       "      <th>pop</th>\n",
       "      <th>continent</th>\n",
       "      <th>lifeExp</th>\n",
       "      <th>gdpPercap</th>\n",
       "    </tr>\n",
       "  </thead>\n",
       "  <tbody>\n",
       "    <tr>\n",
       "      <th>707</th>\n",
       "      <td>India</td>\n",
       "      <td>2007</td>\n",
       "      <td>1.110396e+09</td>\n",
       "      <td>Asia</td>\n",
       "      <td>64.698</td>\n",
       "      <td>2452.210407</td>\n",
       "    </tr>\n",
       "    <tr>\n",
       "      <th>296</th>\n",
       "      <td>China</td>\n",
       "      <td>1992</td>\n",
       "      <td>1.164970e+09</td>\n",
       "      <td>Asia</td>\n",
       "      <td>68.690</td>\n",
       "      <td>1655.784158</td>\n",
       "    </tr>\n",
       "    <tr>\n",
       "      <th>297</th>\n",
       "      <td>China</td>\n",
       "      <td>1997</td>\n",
       "      <td>1.230075e+09</td>\n",
       "      <td>Asia</td>\n",
       "      <td>70.426</td>\n",
       "      <td>2289.234136</td>\n",
       "    </tr>\n",
       "    <tr>\n",
       "      <th>298</th>\n",
       "      <td>China</td>\n",
       "      <td>2002</td>\n",
       "      <td>1.280400e+09</td>\n",
       "      <td>Asia</td>\n",
       "      <td>72.028</td>\n",
       "      <td>3119.280896</td>\n",
       "    </tr>\n",
       "    <tr>\n",
       "      <th>299</th>\n",
       "      <td>China</td>\n",
       "      <td>2007</td>\n",
       "      <td>1.318683e+09</td>\n",
       "      <td>Asia</td>\n",
       "      <td>72.961</td>\n",
       "      <td>4959.114854</td>\n",
       "    </tr>\n",
       "  </tbody>\n",
       "</table>\n",
       "</div>"
      ],
      "text/plain": [
       "    country  year           pop continent  lifeExp    gdpPercap\n",
       "707   India  2007  1.110396e+09      Asia   64.698  2452.210407\n",
       "296   China  1992  1.164970e+09      Asia   68.690  1655.784158\n",
       "297   China  1997  1.230075e+09      Asia   70.426  2289.234136\n",
       "298   China  2002  1.280400e+09      Asia   72.028  3119.280896\n",
       "299   China  2007  1.318683e+09      Asia   72.961  4959.114854"
      ]
     },
     "execution_count": 13,
     "metadata": {},
     "output_type": "execute_result"
    }
   ],
   "source": [
    "df.sort_values(by= 'pop', ascending = True).tail(5)"
   ]
  },
  {
   "cell_type": "code",
   "execution_count": 17,
   "id": "4c5706e0-cc46-4373-b693-02526ecfe0de",
   "metadata": {
    "tags": []
   },
   "outputs": [
    {
     "name": "stdout",
     "output_type": "stream",
     "text": [
      "    country  year          pop continent  lifeExp   gdpPercap\n",
      "696   India  1952  372000000.0      Asia   37.373  546.565749\n",
      "697   India  1957  409000000.0      Asia   40.249  590.061996\n",
      "698   India  1962  454000000.0      Asia   43.605  658.347151\n",
      "699   India  1967  506000000.0      Asia   47.193  700.770611\n",
      "700   India  1972  567000000.0      Asia   50.651  724.032527\n"
     ]
    }
   ],
   "source": [
    "#relational operators\n",
    "dd = df[df['country'] == \"India\"]\n",
    "print(dd.head())"
   ]
  },
  {
   "cell_type": "code",
   "execution_count": 25,
   "id": "2ad38495-ac61-44a6-8979-16907304672f",
   "metadata": {
    "tags": []
   },
   "outputs": [
    {
     "name": "stdout",
     "output_type": "stream",
     "text": [
      "              country  year          pop continent  lifeExp    gdpPercap\n",
      "70          Australia  2002   19546792.0   Oceania   80.370  30687.75473\n",
      "71          Australia  2007   20434176.0   Oceania   81.235  34435.36744\n",
      "251            Canada  2007   33390141.0  Americas   80.653  36319.23501\n",
      "539            France  2007   61083916.0    Europe   80.657  30470.01670\n",
      "670   Hong Kong China  2002    6762476.0      Asia   81.495  30209.01516\n",
      "671   Hong Kong China  2007    6980412.0      Asia   82.208  39724.97867\n",
      "694           Iceland  2002     288030.0    Europe   80.500  31163.20196\n",
      "695           Iceland  2007     301931.0    Europe   81.757  36180.78919\n",
      "767            Israel  2007    6426679.0      Asia   80.745  25523.27710\n",
      "778             Italy  2002   57926999.0    Europe   80.240  27968.09817\n",
      "779             Italy  2007   58147733.0    Europe   80.546  28569.71970\n",
      "801             Japan  1997  125956499.0      Asia   80.690  28816.58499\n",
      "802             Japan  2002  127065841.0      Asia   82.000  28604.59190\n",
      "803             Japan  2007  127467972.0      Asia   82.603  31656.06806\n",
      "1103      New Zealand  2007    4115771.0   Oceania   80.204  25185.00911\n",
      "1151           Norway  2007    4627926.0    Europe   80.196  49357.19017\n",
      "1427            Spain  2007   40448191.0    Europe   80.941  28821.06370\n",
      "1474           Sweden  2002    8954175.0    Europe   80.040  29341.63093\n",
      "1475           Sweden  2007    9031088.0    Europe   80.884  33859.74835\n",
      "1486      Switzerland  2002    7361757.0    Europe   80.620  34480.95771\n",
      "1487      Switzerland  2007    7554661.0    Europe   81.701  37506.41907\n"
     ]
    }
   ],
   "source": [
    "d1 = df['lifeExp'] >80\n",
    "print(df[d1])"
   ]
  },
  {
   "cell_type": "code",
   "execution_count": 27,
   "id": "a92eba5c-c6c9-4401-a2bd-4f33f920f6a7",
   "metadata": {
    "tags": []
   },
   "outputs": [
    {
     "name": "stdout",
     "output_type": "stream",
     "text": [
      "0       False\n",
      "1       False\n",
      "2       False\n",
      "3       False\n",
      "4       False\n",
      "        ...  \n",
      "1699    False\n",
      "1700    False\n",
      "1701    False\n",
      "1702    False\n",
      "1703    False\n",
      "Name: lifeExp, Length: 1704, dtype: bool\n"
     ]
    }
   ],
   "source": [
    "print(d1)"
   ]
  },
  {
   "cell_type": "code",
   "execution_count": 31,
   "id": "e130e1c9-41c0-4b1f-a557-1026df50c3fe",
   "metadata": {
    "tags": []
   },
   "outputs": [
    {
     "name": "stdout",
     "output_type": "stream",
     "text": [
      "              country  year          pop continent  lifeExp    gdpPercap\n",
      "71          Australia  2007   20434176.0   Oceania   81.235  34435.36744\n",
      "251            Canada  2007   33390141.0  Americas   80.653  36319.23501\n",
      "539            France  2007   61083916.0    Europe   80.657  30470.01670\n",
      "671   Hong Kong China  2007    6980412.0      Asia   82.208  39724.97867\n",
      "695           Iceland  2007     301931.0    Europe   81.757  36180.78919\n",
      "767            Israel  2007    6426679.0      Asia   80.745  25523.27710\n",
      "779             Italy  2007   58147733.0    Europe   80.546  28569.71970\n",
      "803             Japan  2007  127467972.0      Asia   82.603  31656.06806\n",
      "1103      New Zealand  2007    4115771.0   Oceania   80.204  25185.00911\n",
      "1151           Norway  2007    4627926.0    Europe   80.196  49357.19017\n",
      "1427            Spain  2007   40448191.0    Europe   80.941  28821.06370\n",
      "1475           Sweden  2007    9031088.0    Europe   80.884  33859.74835\n",
      "1487      Switzerland  2007    7554661.0    Europe   81.701  37506.41907\n"
     ]
    }
   ],
   "source": [
    "d2 = df[ (df['year'] >=2007) & (df['lifeExp']> 80)]\n",
    "print(d2)\n",
    "\n",
    "#similarly for or (|)"
   ]
  },
  {
   "cell_type": "code",
   "execution_count": 35,
   "id": "244007b9-1b62-48bf-a2a0-be33cce83da8",
   "metadata": {
    "tags": []
   },
   "outputs": [
    {
     "data": {
      "text/plain": [
       "437608.88227"
      ]
     },
     "execution_count": 35,
     "metadata": {},
     "output_type": "execute_result"
    }
   ],
   "source": [
    "d2['gdpPercap'].sum()\n",
    "\n",
    "#similarly for min, max, median, mean"
   ]
  },
  {
   "cell_type": "code",
   "execution_count": 43,
   "id": "ec0b7b2e-3774-4ed2-8e57-123b8032ff1c",
   "metadata": {
    "tags": []
   },
   "outputs": [
    {
     "name": "stdout",
     "output_type": "stream",
     "text": [
      "            gdpPercap                                                     \\\n",
      "country   Afghanistan Albania Algeria Angola Argentina Australia Austria   \n",
      "continent                                                                  \n",
      "Africa            NaN     NaN    12.0   12.0       NaN       NaN     NaN   \n",
      "Americas          NaN     NaN     NaN    NaN      12.0       NaN     NaN   \n",
      "Asia             12.0     NaN     NaN    NaN       NaN       NaN     NaN   \n",
      "Europe            NaN    12.0     NaN    NaN       NaN       NaN    12.0   \n",
      "Oceania           NaN     NaN     NaN    NaN       NaN      12.0     NaN   \n",
      "\n",
      "                                      ...   year                               \\\n",
      "country   Bahrain Bangladesh Belgium  ... Uganda United Kingdom United States   \n",
      "continent                             ...                                       \n",
      "Africa        NaN        NaN     NaN  ...   12.0            NaN           NaN   \n",
      "Americas      NaN        NaN     NaN  ...    NaN            NaN          12.0   \n",
      "Asia         12.0       12.0     NaN  ...    NaN            NaN           NaN   \n",
      "Europe        NaN        NaN    12.0  ...    NaN           12.0           NaN   \n",
      "Oceania       NaN        NaN     NaN  ...    NaN            NaN           NaN   \n",
      "\n",
      "                                                                          \\\n",
      "country   Uruguay Venezuela Vietnam West Bank and Gaza Yemen Rep. Zambia   \n",
      "continent                                                                  \n",
      "Africa        NaN       NaN     NaN                NaN        NaN   12.0   \n",
      "Americas     12.0      12.0     NaN                NaN        NaN    NaN   \n",
      "Asia          NaN       NaN    12.0               12.0       12.0    NaN   \n",
      "Europe        NaN       NaN     NaN                NaN        NaN    NaN   \n",
      "Oceania       NaN       NaN     NaN                NaN        NaN    NaN   \n",
      "\n",
      "                    \n",
      "country   Zimbabwe  \n",
      "continent           \n",
      "Africa        12.0  \n",
      "Americas       NaN  \n",
      "Asia           NaN  \n",
      "Europe         NaN  \n",
      "Oceania        NaN  \n",
      "\n",
      "[5 rows x 568 columns]\n"
     ]
    }
   ],
   "source": [
    "#pivot tables\n",
    "# used for categorical values\n",
    "print(df.pivot_table(index = 'continent', columns = 'country', aggfunc='count'))"
   ]
  },
  {
   "cell_type": "code",
   "execution_count": 49,
   "id": "1674a6c1-890e-46ce-91a1-f461200734fc",
   "metadata": {
    "tags": []
   },
   "outputs": [
    {
     "name": "stdout",
     "output_type": "stream",
     "text": [
      "          country                                               ...  pop       \\\n",
      "year         1952 1957 1962 1967 1972 1977 1982 1987 1992 1997  ... 1962 1967   \n",
      "continent                                                       ...             \n",
      "Africa         52   52   52   52   52   52   52   52   52   52  ...   52   52   \n",
      "Americas       25   25   25   25   25   25   25   25   25   25  ...   25   25   \n",
      "Asia           33   33   33   33   33   33   33   33   33   33  ...   33   33   \n",
      "Europe         30   30   30   30   30   30   30   30   30   30  ...   30   30   \n",
      "Oceania         2    2    2    2    2    2    2    2    2    2  ...    2    2   \n",
      "\n",
      "                                                   \n",
      "year      1972 1977 1982 1987 1992 1997 2002 2007  \n",
      "continent                                          \n",
      "Africa      52   52   52   52   52   52   52   52  \n",
      "Americas    25   25   25   25   25   25   25   25  \n",
      "Asia        33   33   33   33   33   33   33   33  \n",
      "Europe      30   30   30   30   30   30   30   30  \n",
      "Oceania      2    2    2    2    2    2    2    2  \n",
      "\n",
      "[5 rows x 48 columns]\n"
     ]
    }
   ],
   "source": [
    "print(df.pivot_table(index = 'continent', columns = 'cou', aggfunc='count'))"
   ]
  },
  {
   "cell_type": "code",
   "execution_count": 55,
   "id": "bc295b2f-d118-47bd-9ac2-a982cabe7799",
   "metadata": {
    "tags": []
   },
   "outputs": [
    {
     "name": "stdout",
     "output_type": "stream",
     "text": [
      "             gdpPercap                                            \\\n",
      "country    Afghanistan       Albania       Algeria        Angola   \n",
      "continent                                                          \n",
      "Africa             NaN           NaN  53112.311678  43285.206346   \n",
      "Americas           NaN           NaN           NaN           NaN   \n",
      "Asia       9632.095181           NaN           NaN           NaN   \n",
      "Europe             NaN  39064.399592           NaN           NaN   \n",
      "Oceania            NaN           NaN           NaN           NaN   \n",
      "\n",
      "                                                                      \\\n",
      "country        Argentina     Australia        Austria        Bahrain   \n",
      "continent                                                              \n",
      "Africa               NaN           NaN            NaN            NaN   \n",
      "Americas   107466.645392           NaN            NaN            NaN   \n",
      "Asia                 NaN           NaN            NaN  216931.967345   \n",
      "Europe               NaN           NaN  244942.995352            NaN   \n",
      "Oceania              NaN  239767.14761            NaN            NaN   \n",
      "\n",
      "                                      ...     year                 \\\n",
      "country     Bangladesh       Belgium  ...   Uganda United Kingdom   \n",
      "continent                             ...                           \n",
      "Africa             NaN           NaN  ...  23754.0            NaN   \n",
      "Americas           NaN           NaN  ...      NaN            NaN   \n",
      "Asia       9810.705819           NaN  ...      NaN            NaN   \n",
      "Europe             NaN  238809.09686  ...      NaN        23754.0   \n",
      "Oceania            NaN           NaN  ...      NaN            NaN   \n",
      "\n",
      "                                                                        \\\n",
      "country   United States  Uruguay Venezuela  Vietnam West Bank and Gaza   \n",
      "continent                                                                \n",
      "Africa              NaN      NaN       NaN      NaN                NaN   \n",
      "Americas        23754.0  23754.0   23754.0      NaN                NaN   \n",
      "Asia                NaN      NaN       NaN  23754.0            23754.0   \n",
      "Europe              NaN      NaN       NaN      NaN                NaN   \n",
      "Oceania             NaN      NaN       NaN      NaN                NaN   \n",
      "\n",
      "                                        \n",
      "country   Yemen Rep.   Zambia Zimbabwe  \n",
      "continent                               \n",
      "Africa           NaN  23754.0  23754.0  \n",
      "Americas         NaN      NaN      NaN  \n",
      "Asia         23754.0      NaN      NaN  \n",
      "Europe           NaN      NaN      NaN  \n",
      "Oceania          NaN      NaN      NaN  \n",
      "\n",
      "[5 rows x 568 columns]\n"
     ]
    }
   ],
   "source": [
    "print(df.pivot_table(index = 'continent', columns = 'country', aggfunc='sum'))"
   ]
  },
  {
   "cell_type": "code",
   "execution_count": 59,
   "id": "072d32dc-09e8-415e-a35e-985dfffab78b",
   "metadata": {
    "tags": []
   },
   "outputs": [
    {
     "name": "stdout",
     "output_type": "stream",
     "text": [
      "year       1952  1957  1962  1967  1972  1977  1982  1987  1992  1997  2002  \\\n",
      "continent                                                                     \n",
      "Africa       52    52    52    52    52    52    52    52    52    52    52   \n",
      "Americas     25    25    25    25    25    25    25    25    25    25    25   \n",
      "Asia         33    33    33    33    33    33    33    33    33    33    33   \n",
      "Europe       30    30    30    30    30    30    30    30    30    30    30   \n",
      "Oceania       2     2     2     2     2     2     2     2     2     2     2   \n",
      "\n",
      "year       2007  \n",
      "continent        \n",
      "Africa       52  \n",
      "Americas     25  \n",
      "Asia         33  \n",
      "Europe       30  \n",
      "Oceania       2  \n"
     ]
    }
   ],
   "source": [
    "#crosstab\n",
    "\n",
    "print(pd.crosstab(df.continent, df.year, margins = False))"
   ]
  },
  {
   "cell_type": "code",
   "execution_count": 61,
   "id": "88e194aa-41c5-4259-8f31-7d038a7484b1",
   "metadata": {
    "tags": []
   },
   "outputs": [
    {
     "name": "stdout",
     "output_type": "stream",
     "text": [
      "  Brand   Price\n",
      "0     A  3000.0\n",
      "1     B  2000.0\n",
      "2     A  3000.0\n",
      "3     D  1700.0\n",
      "4     E     NaN\n",
      "5     F  1600.0\n",
      "(6, 2)\n"
     ]
    }
   ],
   "source": [
    "#handling duplicate and missing values\n",
    "\n",
    "product = pd.DataFrame([['A', 3000], ['B', 2000], ['A', 3000], ['D', 1700], ['E'], ['F', 1600]], columns = ['Brand', 'Price'])\n",
    "print(product)\n",
    "print(product.shape)"
   ]
  },
  {
   "cell_type": "code",
   "execution_count": 65,
   "id": "2eadb7e0-2a7c-4edd-97fb-f3af2669203c",
   "metadata": {
    "tags": []
   },
   "outputs": [
    {
     "name": "stdout",
     "output_type": "stream",
     "text": [
      "Number of missing values in columns are:\n",
      " Brand    0\n",
      "Price    1\n",
      "dtype: int64\n"
     ]
    }
   ],
   "source": [
    "#determining missing values\n",
    "\n",
    "print('Number of missing values in columns are:\\n', product.isnull().sum())"
   ]
  },
  {
   "cell_type": "code",
   "execution_count": 67,
   "id": "f7a38b2c-6e13-4404-bee5-2c417d9dc68d",
   "metadata": {
    "tags": []
   },
   "outputs": [
    {
     "name": "stdout",
     "output_type": "stream",
     "text": [
      "New dimension after removal of missing values (5, 2)\n",
      "  Brand   Price\n",
      "0     A  3000.0\n",
      "1     B  2000.0\n",
      "2     A  3000.0\n",
      "3     D  1700.0\n",
      "5     F  1600.0\n"
     ]
    }
   ],
   "source": [
    "#deleting obervations with missing values\n",
    "newproduct = product.copy()\n",
    "\n",
    "newproduct.dropna(inplace = True)\n",
    "print(\"New dimension after removal of missing values\", newproduct.shape)\n",
    "print(newproduct)"
   ]
  },
  {
   "cell_type": "code",
   "execution_count": 69,
   "id": "43d68929-99ea-4120-82df-9ef21d13fbbf",
   "metadata": {
    "tags": []
   },
   "outputs": [
    {
     "name": "stdout",
     "output_type": "stream",
     "text": [
      "Average Price 2260.0\n"
     ]
    }
   ],
   "source": [
    "#Missing data imputation\n",
    "\n",
    "#determining average price\n",
    "print(\"Average Price\", product['Price'].mean())\n",
    "\n"
   ]
  },
  {
   "cell_type": "code",
   "execution_count": 73,
   "id": "093532c6-eec9-4179-9699-67995113f922",
   "metadata": {
    "tags": []
   },
   "outputs": [
    {
     "name": "stdout",
     "output_type": "stream",
     "text": [
      "Average Price 1883.3333333333333\n",
      "Number of missing values in columns are:\n",
      " 0\n"
     ]
    }
   ],
   "source": [
    "#replaceing missing values of price with 0\n",
    "\n",
    "product1 = product.copy()\n",
    "product1.fillna({'Price':0},inplace = True)\n",
    "print(\"Average Price\", product1['Price'].mean())\n",
    "print('Number of missing values in columns are:\\n', product1['Price'].isnull().sum())\n"
   ]
  },
  {
   "cell_type": "code",
   "execution_count": 79,
   "id": "4bfbea12-a04b-4c6b-8540-4381ef2a34dd",
   "metadata": {
    "tags": []
   },
   "outputs": [
    {
     "name": "stdout",
     "output_type": "stream",
     "text": [
      "Average Price 2216.6666666666665\n",
      "Number of missing values in columns are:\n",
      " 0\n"
     ]
    }
   ],
   "source": [
    "#replaceing missing values of price with median\n",
    "\n",
    "product2 = product.copy()\n",
    "product2.fillna({'Price': product2['Price'].median()},inplace = True)\n",
    "print(\"Average Price\", product2['Price'].mean())\n",
    "print('Number of missing values in columns are:\\n', product2['Price'].isnull().sum())"
   ]
  },
  {
   "cell_type": "code",
   "execution_count": 83,
   "id": "d34a518b-9e9f-4c53-9398-6685ed879b13",
   "metadata": {
    "tags": []
   },
   "outputs": [
    {
     "name": "stdout",
     "output_type": "stream",
     "text": [
      "Average Price 2260.0\n",
      "Number of missing values in columns are:\n",
      " 0\n"
     ]
    }
   ],
   "source": [
    "#replaceing missing values of price with mean\n",
    "\n",
    "product3 = product.copy()\n",
    "product3.fillna({'Price': product3['Price'].mean()},inplace = True)\n",
    "print(\"Average Price\", product3['Price'].mean())\n",
    "print('Number of missing values in columns are:\\n', product3['Price'].isnull().sum())"
   ]
  },
  {
   "cell_type": "code",
   "execution_count": 85,
   "id": "b781afc3-0e5c-441b-b1aa-e2a32b20e2ad",
   "metadata": {
    "tags": []
   },
   "outputs": [
    {
     "name": "stdout",
     "output_type": "stream",
     "text": [
      "Number of duplicate records 1\n",
      "  Brand   Price\n",
      "0     A  3000.0\n",
      "1     B  2000.0\n",
      "3     D  1700.0\n",
      "4     E  2260.0\n",
      "5     F  1600.0\n"
     ]
    }
   ],
   "source": [
    "#deleting duplicate values\n",
    "print(\"Number of duplicate records\", product3.duplicated().sum())\n",
    "\n",
    "newproduct3 = product3.drop_duplicates()\n",
    "print(newproduct3)"
   ]
  },
  {
   "cell_type": "code",
   "execution_count": 89,
   "id": "8454de80-3106-4431-b42f-e9bac8237c18",
   "metadata": {
    "tags": []
   },
   "outputs": [
    {
     "data": {
      "text/html": [
       "<div>\n",
       "<style scoped>\n",
       "    .dataframe tbody tr th:only-of-type {\n",
       "        vertical-align: middle;\n",
       "    }\n",
       "\n",
       "    .dataframe tbody tr th {\n",
       "        vertical-align: top;\n",
       "    }\n",
       "\n",
       "    .dataframe thead th {\n",
       "        text-align: right;\n",
       "    }\n",
       "</style>\n",
       "<table border=\"1\" class=\"dataframe\">\n",
       "  <thead>\n",
       "    <tr style=\"text-align: right;\">\n",
       "      <th></th>\n",
       "      <th>variable</th>\n",
       "      <th>value</th>\n",
       "    </tr>\n",
       "  </thead>\n",
       "  <tbody>\n",
       "    <tr>\n",
       "      <th>0</th>\n",
       "      <td>Brand</td>\n",
       "      <td>A</td>\n",
       "    </tr>\n",
       "    <tr>\n",
       "      <th>1</th>\n",
       "      <td>Brand</td>\n",
       "      <td>B</td>\n",
       "    </tr>\n",
       "    <tr>\n",
       "      <th>2</th>\n",
       "      <td>Brand</td>\n",
       "      <td>D</td>\n",
       "    </tr>\n",
       "    <tr>\n",
       "      <th>3</th>\n",
       "      <td>Brand</td>\n",
       "      <td>E</td>\n",
       "    </tr>\n",
       "    <tr>\n",
       "      <th>4</th>\n",
       "      <td>Brand</td>\n",
       "      <td>F</td>\n",
       "    </tr>\n",
       "    <tr>\n",
       "      <th>5</th>\n",
       "      <td>Price</td>\n",
       "      <td>3000.0</td>\n",
       "    </tr>\n",
       "    <tr>\n",
       "      <th>6</th>\n",
       "      <td>Price</td>\n",
       "      <td>2000.0</td>\n",
       "    </tr>\n",
       "    <tr>\n",
       "      <th>7</th>\n",
       "      <td>Price</td>\n",
       "      <td>1700.0</td>\n",
       "    </tr>\n",
       "    <tr>\n",
       "      <th>8</th>\n",
       "      <td>Price</td>\n",
       "      <td>2260.0</td>\n",
       "    </tr>\n",
       "    <tr>\n",
       "      <th>9</th>\n",
       "      <td>Price</td>\n",
       "      <td>1600.0</td>\n",
       "    </tr>\n",
       "  </tbody>\n",
       "</table>\n",
       "</div>"
      ],
      "text/plain": [
       "  variable   value\n",
       "0    Brand       A\n",
       "1    Brand       B\n",
       "2    Brand       D\n",
       "3    Brand       E\n",
       "4    Brand       F\n",
       "5    Price  3000.0\n",
       "6    Price  2000.0\n",
       "7    Price  1700.0\n",
       "8    Price  2260.0\n",
       "9    Price  1600.0"
      ]
     },
     "execution_count": 89,
     "metadata": {},
     "output_type": "execute_result"
    }
   ],
   "source": [
    "# data melting\n",
    "\n",
    "''' it helsp in creating different rows on the basis of different values in different columns.'''\n",
    "\n",
    "newproduct3.melt()"
   ]
  },
  {
   "cell_type": "code",
   "execution_count": 91,
   "id": "4840997f-dab0-4f4a-84ec-f1ce6f090dd7",
   "metadata": {
    "tags": []
   },
   "outputs": [
    {
     "data": {
      "text/html": [
       "<div>\n",
       "<style scoped>\n",
       "    .dataframe tbody tr th:only-of-type {\n",
       "        vertical-align: middle;\n",
       "    }\n",
       "\n",
       "    .dataframe tbody tr th {\n",
       "        vertical-align: top;\n",
       "    }\n",
       "\n",
       "    .dataframe thead th {\n",
       "        text-align: right;\n",
       "    }\n",
       "</style>\n",
       "<table border=\"1\" class=\"dataframe\">\n",
       "  <thead>\n",
       "    <tr style=\"text-align: right;\">\n",
       "      <th></th>\n",
       "      <th>Brand</th>\n",
       "      <th>Price</th>\n",
       "    </tr>\n",
       "  </thead>\n",
       "  <tbody>\n",
       "    <tr>\n",
       "      <th>0</th>\n",
       "      <td>A</td>\n",
       "      <td>3000.0</td>\n",
       "    </tr>\n",
       "    <tr>\n",
       "      <th>1</th>\n",
       "      <td>B</td>\n",
       "      <td>2000.0</td>\n",
       "    </tr>\n",
       "    <tr>\n",
       "      <th>3</th>\n",
       "      <td>D</td>\n",
       "      <td>1700.0</td>\n",
       "    </tr>\n",
       "    <tr>\n",
       "      <th>4</th>\n",
       "      <td>E</td>\n",
       "      <td>2260.0</td>\n",
       "    </tr>\n",
       "    <tr>\n",
       "      <th>5</th>\n",
       "      <td>F</td>\n",
       "      <td>1600.0</td>\n",
       "    </tr>\n",
       "    <tr>\n",
       "      <th>0</th>\n",
       "      <td>G</td>\n",
       "      <td>2700.0</td>\n",
       "    </tr>\n",
       "    <tr>\n",
       "      <th>1</th>\n",
       "      <td>H</td>\n",
       "      <td>3600.0</td>\n",
       "    </tr>\n",
       "  </tbody>\n",
       "</table>\n",
       "</div>"
      ],
      "text/plain": [
       "  Brand   Price\n",
       "0     A  3000.0\n",
       "1     B  2000.0\n",
       "3     D  1700.0\n",
       "4     E  2260.0\n",
       "5     F  1600.0\n",
       "0     G  2700.0\n",
       "1     H  3600.0"
      ]
     },
     "execution_count": 91,
     "metadata": {},
     "output_type": "execute_result"
    }
   ],
   "source": [
    "product4 = pd.DataFrame([['G', 2700], ['H', 3600]], columns =['Brand', 'Price'])\n",
    "\n",
    "#Data Concatenation\n",
    "\n",
    "pd.concat([newproduct3, product4])"
   ]
  },
  {
   "cell_type": "code",
   "execution_count": 93,
   "id": "ddb73e79-edff-4afa-bba9-59d385cfc0e1",
   "metadata": {
    "tags": []
   },
   "outputs": [
    {
     "name": "stdout",
     "output_type": "stream",
     "text": [
      "  Brand   Price           Name        Date\n",
      "0     A  3000.0      Van Heuse  04-05-2024\n",
      "1     B  2000.0           Tata  10-06-2024\n",
      "2     D  1700.0       Mahindra  29-10-2024\n",
      "3     E  2260.0           Hero   1-10-2024\n",
      "4     F  1600.0  Royal Enfield   3-12-2019\n"
     ]
    }
   ],
   "source": [
    "# Data 'Merging\n",
    "\n",
    "pname = pd.DataFrame([['A', 'Van Heuse', '04-05-2024'], ['B', 'Tata', '10-06-2024'], ['D', 'Mahindra', '29-10-2024'],\n",
    "                     ['E', 'Hero', '1-10-2024'], ['F', 'Royal Enfield', ' 3-12-2019']], columns =['Brand', 'Name','Date'])\n",
    "\n",
    "finaldata = pd.merge(newproduct3, pname, on=['Brand'])\n",
    "print(finaldata)"
   ]
  },
  {
   "cell_type": "code",
   "execution_count": 95,
   "id": "02384a23-a1f1-4837-aac0-e947bbc4aab1",
   "metadata": {
    "tags": []
   },
   "outputs": [
    {
     "data": {
      "text/html": [
       "<div>\n",
       "<style scoped>\n",
       "    .dataframe tbody tr th:only-of-type {\n",
       "        vertical-align: middle;\n",
       "    }\n",
       "\n",
       "    .dataframe tbody tr th {\n",
       "        vertical-align: top;\n",
       "    }\n",
       "\n",
       "    .dataframe thead th {\n",
       "        text-align: right;\n",
       "    }\n",
       "</style>\n",
       "<table border=\"1\" class=\"dataframe\">\n",
       "  <thead>\n",
       "    <tr style=\"text-align: right;\">\n",
       "      <th></th>\n",
       "      <th>Brand</th>\n",
       "      <th>Price</th>\n",
       "      <th>Name</th>\n",
       "      <th>Date</th>\n",
       "      <th>newbrand</th>\n",
       "    </tr>\n",
       "  </thead>\n",
       "  <tbody>\n",
       "    <tr>\n",
       "      <th>0</th>\n",
       "      <td>A</td>\n",
       "      <td>3000.0</td>\n",
       "      <td>Van Heuse</td>\n",
       "      <td>04-05-2024</td>\n",
       "      <td>First</td>\n",
       "    </tr>\n",
       "    <tr>\n",
       "      <th>1</th>\n",
       "      <td>B</td>\n",
       "      <td>2000.0</td>\n",
       "      <td>Tata</td>\n",
       "      <td>10-06-2024</td>\n",
       "      <td>Second</td>\n",
       "    </tr>\n",
       "    <tr>\n",
       "      <th>2</th>\n",
       "      <td>D</td>\n",
       "      <td>1700.0</td>\n",
       "      <td>Mahindra</td>\n",
       "      <td>29-10-2024</td>\n",
       "      <td>Third</td>\n",
       "    </tr>\n",
       "    <tr>\n",
       "      <th>3</th>\n",
       "      <td>E</td>\n",
       "      <td>2260.0</td>\n",
       "      <td>Hero</td>\n",
       "      <td>1-10-2024</td>\n",
       "      <td>Fourth</td>\n",
       "    </tr>\n",
       "    <tr>\n",
       "      <th>4</th>\n",
       "      <td>F</td>\n",
       "      <td>1600.0</td>\n",
       "      <td>Royal Enfield</td>\n",
       "      <td>3-12-2019</td>\n",
       "      <td>Fifth</td>\n",
       "    </tr>\n",
       "  </tbody>\n",
       "</table>\n",
       "</div>"
      ],
      "text/plain": [
       "  Brand   Price           Name        Date newbrand\n",
       "0     A  3000.0      Van Heuse  04-05-2024    First\n",
       "1     B  2000.0           Tata  10-06-2024   Second\n",
       "2     D  1700.0       Mahindra  29-10-2024    Third\n",
       "3     E  2260.0           Hero   1-10-2024   Fourth\n",
       "4     F  1600.0  Royal Enfield   3-12-2019    Fifth"
      ]
     },
     "execution_count": 95,
     "metadata": {},
     "output_type": "execute_result"
    }
   ],
   "source": [
    "#data conversion\n",
    "''' the map() function can be used to change the data type of any variable\n",
    "Here a dictionary is created , it is converted to dataframe using map()'''\n",
    "\n",
    "#creating a dictionary\n",
    "order = {'A': 'First', 'B':'Second', 'D': 'Third', 'E': 'Fourth', 'F': 'Fifth'}\n",
    "\n",
    "#data conversion\n",
    "\n",
    "finaldata['newbrand']= finaldata['Brand'].map(order)\n",
    "finaldata"
   ]
  },
  {
   "cell_type": "code",
   "execution_count": 99,
   "id": "b39e68d1-5bdc-48ab-877c-53285df6684f",
   "metadata": {
    "tags": []
   },
   "outputs": [
    {
     "data": {
      "text/html": [
       "<div>\n",
       "<style scoped>\n",
       "    .dataframe tbody tr th:only-of-type {\n",
       "        vertical-align: middle;\n",
       "    }\n",
       "\n",
       "    .dataframe tbody tr th {\n",
       "        vertical-align: top;\n",
       "    }\n",
       "\n",
       "    .dataframe thead th {\n",
       "        text-align: right;\n",
       "    }\n",
       "</style>\n",
       "<table border=\"1\" class=\"dataframe\">\n",
       "  <thead>\n",
       "    <tr style=\"text-align: right;\">\n",
       "      <th></th>\n",
       "      <th>Brand</th>\n",
       "      <th>Price</th>\n",
       "      <th>Name</th>\n",
       "      <th>Date</th>\n",
       "      <th>newbrand</th>\n",
       "    </tr>\n",
       "  </thead>\n",
       "  <tbody>\n",
       "    <tr>\n",
       "      <th>0</th>\n",
       "      <td>A</td>\n",
       "      <td>3750.0</td>\n",
       "      <td>Van Heuse</td>\n",
       "      <td>04-05-2024</td>\n",
       "      <td>First</td>\n",
       "    </tr>\n",
       "    <tr>\n",
       "      <th>1</th>\n",
       "      <td>B</td>\n",
       "      <td>2500.0</td>\n",
       "      <td>Tata</td>\n",
       "      <td>10-06-2024</td>\n",
       "      <td>Second</td>\n",
       "    </tr>\n",
       "    <tr>\n",
       "      <th>2</th>\n",
       "      <td>D</td>\n",
       "      <td>2125.0</td>\n",
       "      <td>Mahindra</td>\n",
       "      <td>29-10-2024</td>\n",
       "      <td>Third</td>\n",
       "    </tr>\n",
       "    <tr>\n",
       "      <th>3</th>\n",
       "      <td>E</td>\n",
       "      <td>2825.0</td>\n",
       "      <td>Hero</td>\n",
       "      <td>1-10-2024</td>\n",
       "      <td>Fourth</td>\n",
       "    </tr>\n",
       "    <tr>\n",
       "      <th>4</th>\n",
       "      <td>F</td>\n",
       "      <td>2000.0</td>\n",
       "      <td>Royal Enfield</td>\n",
       "      <td>3-12-2019</td>\n",
       "      <td>Fifth</td>\n",
       "    </tr>\n",
       "  </tbody>\n",
       "</table>\n",
       "</div>"
      ],
      "text/plain": [
       "  Brand   Price           Name        Date newbrand\n",
       "0     A  3750.0      Van Heuse  04-05-2024    First\n",
       "1     B  2500.0           Tata  10-06-2024   Second\n",
       "2     D  2125.0       Mahindra  29-10-2024    Third\n",
       "3     E  2825.0           Hero   1-10-2024   Fourth\n",
       "4     F  2000.0  Royal Enfield   3-12-2019    Fifth"
      ]
     },
     "execution_count": 99,
     "metadata": {},
     "output_type": "execute_result"
    }
   ],
   "source": [
    "'''apply() is used to transform the values of the column in existing data'''\n",
    "\n",
    "finaldata['Price'] = finaldata['Price'].apply(lambda x: x*1.25)\n",
    "finaldata"
   ]
  },
  {
   "cell_type": "code",
   "execution_count": 101,
   "id": "9934483b-6455-4e86-a513-831bb68f4261",
   "metadata": {
    "tags": []
   },
   "outputs": [
    {
     "name": "stdout",
     "output_type": "stream",
     "text": [
      "<class 'pandas.core.frame.DataFrame'>\n",
      "RangeIndex: 5 entries, 0 to 4\n",
      "Data columns (total 5 columns):\n",
      " #   Column    Non-Null Count  Dtype  \n",
      "---  ------    --------------  -----  \n",
      " 0   Brand     5 non-null      object \n",
      " 1   Price     5 non-null      float64\n",
      " 2   Name      5 non-null      object \n",
      " 3   Date      5 non-null      object \n",
      " 4   newbrand  5 non-null      object \n",
      "dtypes: float64(1), object(4)\n",
      "memory usage: 332.0+ bytes\n"
     ]
    }
   ],
   "source": [
    "finaldata.info()"
   ]
  },
  {
   "cell_type": "code",
   "execution_count": 103,
   "id": "ff1a38db-60e0-43ce-abdc-23a41681bf91",
   "metadata": {
    "tags": []
   },
   "outputs": [
    {
     "data": {
      "text/html": [
       "<div>\n",
       "<style scoped>\n",
       "    .dataframe tbody tr th:only-of-type {\n",
       "        vertical-align: middle;\n",
       "    }\n",
       "\n",
       "    .dataframe tbody tr th {\n",
       "        vertical-align: top;\n",
       "    }\n",
       "\n",
       "    .dataframe thead th {\n",
       "        text-align: right;\n",
       "    }\n",
       "</style>\n",
       "<table border=\"1\" class=\"dataframe\">\n",
       "  <thead>\n",
       "    <tr style=\"text-align: right;\">\n",
       "      <th></th>\n",
       "      <th>Brand</th>\n",
       "      <th>Price</th>\n",
       "      <th>Name</th>\n",
       "      <th>Date</th>\n",
       "      <th>newbrand</th>\n",
       "      <th>Price_Cat</th>\n",
       "    </tr>\n",
       "  </thead>\n",
       "  <tbody>\n",
       "    <tr>\n",
       "      <th>0</th>\n",
       "      <td>A</td>\n",
       "      <td>3750.0</td>\n",
       "      <td>Van Heuse</td>\n",
       "      <td>04-05-2024</td>\n",
       "      <td>First</td>\n",
       "      <td>High</td>\n",
       "    </tr>\n",
       "    <tr>\n",
       "      <th>1</th>\n",
       "      <td>B</td>\n",
       "      <td>2500.0</td>\n",
       "      <td>Tata</td>\n",
       "      <td>10-06-2024</td>\n",
       "      <td>Second</td>\n",
       "      <td>Average</td>\n",
       "    </tr>\n",
       "    <tr>\n",
       "      <th>2</th>\n",
       "      <td>D</td>\n",
       "      <td>2125.0</td>\n",
       "      <td>Mahindra</td>\n",
       "      <td>29-10-2024</td>\n",
       "      <td>Third</td>\n",
       "      <td>Low</td>\n",
       "    </tr>\n",
       "    <tr>\n",
       "      <th>3</th>\n",
       "      <td>E</td>\n",
       "      <td>2825.0</td>\n",
       "      <td>Hero</td>\n",
       "      <td>1-10-2024</td>\n",
       "      <td>Fourth</td>\n",
       "      <td>High</td>\n",
       "    </tr>\n",
       "    <tr>\n",
       "      <th>4</th>\n",
       "      <td>F</td>\n",
       "      <td>2000.0</td>\n",
       "      <td>Royal Enfield</td>\n",
       "      <td>3-12-2019</td>\n",
       "      <td>Fifth</td>\n",
       "      <td>Low</td>\n",
       "    </tr>\n",
       "  </tbody>\n",
       "</table>\n",
       "</div>"
      ],
      "text/plain": [
       "  Brand   Price           Name        Date newbrand Price_Cat\n",
       "0     A  3750.0      Van Heuse  04-05-2024    First      High\n",
       "1     B  2500.0           Tata  10-06-2024   Second   Average\n",
       "2     D  2125.0       Mahindra  29-10-2024    Third       Low\n",
       "3     E  2825.0           Hero   1-10-2024   Fourth      High\n",
       "4     F  2000.0  Royal Enfield   3-12-2019    Fifth       Low"
      ]
     },
     "execution_count": 103,
     "metadata": {},
     "output_type": "execute_result"
    }
   ],
   "source": [
    "# Numeric to object\n",
    "\n",
    "finaldata['Price_Cat'] = pd.qcut(finaldata['Price'], q=3, labels = ['Low', 'Average', 'High'])\n",
    "finaldata\n",
    "\n",
    "'''data is classified into q =3  no of quartiles with label values'''"
   ]
  },
  {
   "cell_type": "code",
   "execution_count": 107,
   "id": "d137ff33-99bd-46eb-acb6-6d336527b0fa",
   "metadata": {
    "tags": []
   },
   "outputs": [
    {
     "data": {
      "text/html": [
       "<div>\n",
       "<style scoped>\n",
       "    .dataframe tbody tr th:only-of-type {\n",
       "        vertical-align: middle;\n",
       "    }\n",
       "\n",
       "    .dataframe tbody tr th {\n",
       "        vertical-align: top;\n",
       "    }\n",
       "\n",
       "    .dataframe thead th {\n",
       "        text-align: right;\n",
       "    }\n",
       "</style>\n",
       "<table border=\"1\" class=\"dataframe\">\n",
       "  <thead>\n",
       "    <tr style=\"text-align: right;\">\n",
       "      <th></th>\n",
       "      <th>Brand</th>\n",
       "      <th>Price</th>\n",
       "      <th>Name</th>\n",
       "      <th>Date</th>\n",
       "      <th>newbrand</th>\n",
       "      <th>Price_Cat</th>\n",
       "      <th>newDate</th>\n",
       "    </tr>\n",
       "  </thead>\n",
       "  <tbody>\n",
       "    <tr>\n",
       "      <th>0</th>\n",
       "      <td>A</td>\n",
       "      <td>3750.0</td>\n",
       "      <td>Van Heuse</td>\n",
       "      <td>04-05-2024</td>\n",
       "      <td>First</td>\n",
       "      <td>High</td>\n",
       "      <td>2024-05-04</td>\n",
       "    </tr>\n",
       "    <tr>\n",
       "      <th>1</th>\n",
       "      <td>B</td>\n",
       "      <td>2500.0</td>\n",
       "      <td>Tata</td>\n",
       "      <td>10-06-2024</td>\n",
       "      <td>Second</td>\n",
       "      <td>Average</td>\n",
       "      <td>2024-06-10</td>\n",
       "    </tr>\n",
       "    <tr>\n",
       "      <th>2</th>\n",
       "      <td>D</td>\n",
       "      <td>2125.0</td>\n",
       "      <td>Mahindra</td>\n",
       "      <td>29-10-2024</td>\n",
       "      <td>Third</td>\n",
       "      <td>Low</td>\n",
       "      <td>2024-10-29</td>\n",
       "    </tr>\n",
       "    <tr>\n",
       "      <th>3</th>\n",
       "      <td>E</td>\n",
       "      <td>2825.0</td>\n",
       "      <td>Hero</td>\n",
       "      <td>1-10-2024</td>\n",
       "      <td>Fourth</td>\n",
       "      <td>High</td>\n",
       "      <td>2024-10-01</td>\n",
       "    </tr>\n",
       "    <tr>\n",
       "      <th>4</th>\n",
       "      <td>F</td>\n",
       "      <td>2000.0</td>\n",
       "      <td>Royal Enfield</td>\n",
       "      <td>3-12-2019</td>\n",
       "      <td>Fifth</td>\n",
       "      <td>Low</td>\n",
       "      <td>2019-12-03</td>\n",
       "    </tr>\n",
       "  </tbody>\n",
       "</table>\n",
       "</div>"
      ],
      "text/plain": [
       "  Brand   Price           Name        Date newbrand Price_Cat    newDate\n",
       "0     A  3750.0      Van Heuse  04-05-2024    First      High 2024-05-04\n",
       "1     B  2500.0           Tata  10-06-2024   Second   Average 2024-06-10\n",
       "2     D  2125.0       Mahindra  29-10-2024    Third       Low 2024-10-29\n",
       "3     E  2825.0           Hero   1-10-2024   Fourth      High 2024-10-01\n",
       "4     F  2000.0  Royal Enfield   3-12-2019    Fifth       Low 2019-12-03"
      ]
     },
     "execution_count": 107,
     "metadata": {},
     "output_type": "execute_result"
    }
   ],
   "source": [
    "#object to Date\n",
    "\n",
    "finaldata['newDate'] = pd.to_datetime(finaldata['Date'], format='%d-%m-%Y')\n",
    "finaldata"
   ]
  },
  {
   "cell_type": "code",
   "execution_count": 109,
   "id": "f363039e-c74c-48b3-bbfa-78963bef2765",
   "metadata": {
    "tags": []
   },
   "outputs": [
    {
     "name": "stdout",
     "output_type": "stream",
     "text": [
      "<class 'pandas.core.frame.DataFrame'>\n",
      "RangeIndex: 5 entries, 0 to 4\n",
      "Data columns (total 7 columns):\n",
      " #   Column     Non-Null Count  Dtype         \n",
      "---  ------     --------------  -----         \n",
      " 0   Brand      5 non-null      object        \n",
      " 1   Price      5 non-null      float64       \n",
      " 2   Name       5 non-null      object        \n",
      " 3   Date       5 non-null      object        \n",
      " 4   newbrand   5 non-null      object        \n",
      " 5   Price_Cat  5 non-null      category      \n",
      " 6   newDate    5 non-null      datetime64[ns]\n",
      "dtypes: category(1), datetime64[ns](1), float64(1), object(4)\n",
      "memory usage: 509.0+ bytes\n"
     ]
    }
   ],
   "source": [
    "finaldata.info()"
   ]
  },
  {
   "cell_type": "code",
   "execution_count": 113,
   "id": "0eea1646-599a-43e0-9e95-1ed9709cdd63",
   "metadata": {
    "tags": []
   },
   "outputs": [
    {
     "data": {
      "text/html": [
       "<div>\n",
       "<style scoped>\n",
       "    .dataframe tbody tr th:only-of-type {\n",
       "        vertical-align: middle;\n",
       "    }\n",
       "\n",
       "    .dataframe tbody tr th {\n",
       "        vertical-align: top;\n",
       "    }\n",
       "\n",
       "    .dataframe thead th {\n",
       "        text-align: right;\n",
       "    }\n",
       "</style>\n",
       "<table border=\"1\" class=\"dataframe\">\n",
       "  <thead>\n",
       "    <tr style=\"text-align: right;\">\n",
       "      <th></th>\n",
       "      <th>Brand</th>\n",
       "      <th>Price</th>\n",
       "      <th>Name</th>\n",
       "      <th>newbrand</th>\n",
       "      <th>Price_Cat</th>\n",
       "      <th>newDate</th>\n",
       "    </tr>\n",
       "  </thead>\n",
       "  <tbody>\n",
       "    <tr>\n",
       "      <th>0</th>\n",
       "      <td>A</td>\n",
       "      <td>3750.0</td>\n",
       "      <td>Van Heuse</td>\n",
       "      <td>First</td>\n",
       "      <td>H</td>\n",
       "      <td>2024-05-04</td>\n",
       "    </tr>\n",
       "    <tr>\n",
       "      <th>1</th>\n",
       "      <td>B</td>\n",
       "      <td>2500.0</td>\n",
       "      <td>Tata</td>\n",
       "      <td>Second</td>\n",
       "      <td>A</td>\n",
       "      <td>2024-06-10</td>\n",
       "    </tr>\n",
       "    <tr>\n",
       "      <th>2</th>\n",
       "      <td>D</td>\n",
       "      <td>2125.0</td>\n",
       "      <td>Mahindra</td>\n",
       "      <td>Third</td>\n",
       "      <td>L</td>\n",
       "      <td>2024-10-29</td>\n",
       "    </tr>\n",
       "    <tr>\n",
       "      <th>3</th>\n",
       "      <td>E</td>\n",
       "      <td>2825.0</td>\n",
       "      <td>Hero</td>\n",
       "      <td>Fourth</td>\n",
       "      <td>H</td>\n",
       "      <td>2024-10-01</td>\n",
       "    </tr>\n",
       "    <tr>\n",
       "      <th>4</th>\n",
       "      <td>F</td>\n",
       "      <td>2000.0</td>\n",
       "      <td>Royal Enfield</td>\n",
       "      <td>Fifth</td>\n",
       "      <td>L</td>\n",
       "      <td>2019-12-03</td>\n",
       "    </tr>\n",
       "  </tbody>\n",
       "</table>\n",
       "</div>"
      ],
      "text/plain": [
       "  Brand   Price           Name newbrand Price_Cat    newDate\n",
       "0     A  3750.0      Van Heuse    First         H 2024-05-04\n",
       "1     B  2500.0           Tata   Second         A 2024-06-10\n",
       "2     D  2125.0       Mahindra    Third         L 2024-10-29\n",
       "3     E  2825.0           Hero   Fourth         H 2024-10-01\n",
       "4     F  2000.0  Royal Enfield    Fifth         L 2019-12-03"
      ]
     },
     "execution_count": 113,
     "metadata": {},
     "output_type": "execute_result"
    }
   ],
   "source": [
    "# transforming object to object\n",
    "\n",
    "finaldata = finaldata.drop(columns = ['Date'])\n",
    "order = {'High': 'H', 'Low': 'L', 'Average':'A'}\n",
    "finaldata['Price_Cat']= finaldata['Price_Cat'].map(order)\n",
    "finaldata"
   ]
  },
  {
   "cell_type": "code",
   "execution_count": 115,
   "id": "d9df7995-c797-4b39-84cd-4d0ac396ee4f",
   "metadata": {
    "tags": []
   },
   "outputs": [
    {
     "data": {
      "text/html": [
       "<div>\n",
       "<style scoped>\n",
       "    .dataframe tbody tr th:only-of-type {\n",
       "        vertical-align: middle;\n",
       "    }\n",
       "\n",
       "    .dataframe tbody tr th {\n",
       "        vertical-align: top;\n",
       "    }\n",
       "\n",
       "    .dataframe thead th {\n",
       "        text-align: right;\n",
       "    }\n",
       "</style>\n",
       "<table border=\"1\" class=\"dataframe\">\n",
       "  <thead>\n",
       "    <tr style=\"text-align: right;\">\n",
       "      <th></th>\n",
       "      <th>Brand</th>\n",
       "      <th>Price</th>\n",
       "      <th>Name</th>\n",
       "      <th>newbrand</th>\n",
       "      <th>Price_Cat</th>\n",
       "      <th>newDate</th>\n",
       "      <th>Price_newCat</th>\n",
       "    </tr>\n",
       "  </thead>\n",
       "  <tbody>\n",
       "    <tr>\n",
       "      <th>0</th>\n",
       "      <td>A</td>\n",
       "      <td>3750.0</td>\n",
       "      <td>Van Heuse</td>\n",
       "      <td>First</td>\n",
       "      <td>H</td>\n",
       "      <td>2024-05-04</td>\n",
       "      <td>1.1</td>\n",
       "    </tr>\n",
       "    <tr>\n",
       "      <th>1</th>\n",
       "      <td>B</td>\n",
       "      <td>2500.0</td>\n",
       "      <td>Tata</td>\n",
       "      <td>Second</td>\n",
       "      <td>A</td>\n",
       "      <td>2024-06-10</td>\n",
       "      <td>3.4</td>\n",
       "    </tr>\n",
       "    <tr>\n",
       "      <th>2</th>\n",
       "      <td>D</td>\n",
       "      <td>2125.0</td>\n",
       "      <td>Mahindra</td>\n",
       "      <td>Third</td>\n",
       "      <td>L</td>\n",
       "      <td>2024-10-29</td>\n",
       "      <td>2.2</td>\n",
       "    </tr>\n",
       "    <tr>\n",
       "      <th>3</th>\n",
       "      <td>E</td>\n",
       "      <td>2825.0</td>\n",
       "      <td>Hero</td>\n",
       "      <td>Fourth</td>\n",
       "      <td>H</td>\n",
       "      <td>2024-10-01</td>\n",
       "      <td>1.1</td>\n",
       "    </tr>\n",
       "    <tr>\n",
       "      <th>4</th>\n",
       "      <td>F</td>\n",
       "      <td>2000.0</td>\n",
       "      <td>Royal Enfield</td>\n",
       "      <td>Fifth</td>\n",
       "      <td>L</td>\n",
       "      <td>2019-12-03</td>\n",
       "      <td>2.2</td>\n",
       "    </tr>\n",
       "  </tbody>\n",
       "</table>\n",
       "</div>"
      ],
      "text/plain": [
       "  Brand   Price           Name newbrand Price_Cat    newDate Price_newCat\n",
       "0     A  3750.0      Van Heuse    First         H 2024-05-04          1.1\n",
       "1     B  2500.0           Tata   Second         A 2024-06-10          3.4\n",
       "2     D  2125.0       Mahindra    Third         L 2024-10-29          2.2\n",
       "3     E  2825.0           Hero   Fourth         H 2024-10-01          1.1\n",
       "4     F  2000.0  Royal Enfield    Fifth         L 2019-12-03          2.2"
      ]
     },
     "execution_count": 115,
     "metadata": {},
     "output_type": "execute_result"
    }
   ],
   "source": [
    "#object to numberic\n",
    "order2 = {'H':1.1, 'L':2.2, 'A':3.4}\n",
    "finaldata['Price_newCat']= finaldata['Price_Cat'].map(order2)\n",
    "finaldata"
   ]
  },
  {
   "cell_type": "code",
   "execution_count": 117,
   "id": "51a4e167-785f-4aea-a382-c0c026181d0e",
   "metadata": {
    "tags": []
   },
   "outputs": [
    {
     "data": {
      "text/html": [
       "<div>\n",
       "<style scoped>\n",
       "    .dataframe tbody tr th:only-of-type {\n",
       "        vertical-align: middle;\n",
       "    }\n",
       "\n",
       "    .dataframe tbody tr th {\n",
       "        vertical-align: top;\n",
       "    }\n",
       "\n",
       "    .dataframe thead th {\n",
       "        text-align: right;\n",
       "    }\n",
       "</style>\n",
       "<table border=\"1\" class=\"dataframe\">\n",
       "  <thead>\n",
       "    <tr style=\"text-align: right;\">\n",
       "      <th></th>\n",
       "      <th>Brand</th>\n",
       "      <th>Price</th>\n",
       "      <th>Name</th>\n",
       "      <th>newbrand</th>\n",
       "      <th>Price_Cat</th>\n",
       "      <th>newDate</th>\n",
       "      <th>Price_newCat</th>\n",
       "      <th>newPrice</th>\n",
       "    </tr>\n",
       "  </thead>\n",
       "  <tbody>\n",
       "    <tr>\n",
       "      <th>0</th>\n",
       "      <td>A</td>\n",
       "      <td>3750.0</td>\n",
       "      <td>Van Heuse</td>\n",
       "      <td>First</td>\n",
       "      <td>H</td>\n",
       "      <td>2024-05-04</td>\n",
       "      <td>1.1</td>\n",
       "      <td>A</td>\n",
       "    </tr>\n",
       "    <tr>\n",
       "      <th>1</th>\n",
       "      <td>B</td>\n",
       "      <td>2500.0</td>\n",
       "      <td>Tata</td>\n",
       "      <td>Second</td>\n",
       "      <td>A</td>\n",
       "      <td>2024-06-10</td>\n",
       "      <td>3.4</td>\n",
       "      <td>B</td>\n",
       "    </tr>\n",
       "    <tr>\n",
       "      <th>2</th>\n",
       "      <td>D</td>\n",
       "      <td>2125.0</td>\n",
       "      <td>Mahindra</td>\n",
       "      <td>Third</td>\n",
       "      <td>L</td>\n",
       "      <td>2024-10-29</td>\n",
       "      <td>2.2</td>\n",
       "      <td>C</td>\n",
       "    </tr>\n",
       "    <tr>\n",
       "      <th>3</th>\n",
       "      <td>E</td>\n",
       "      <td>2825.0</td>\n",
       "      <td>Hero</td>\n",
       "      <td>Fourth</td>\n",
       "      <td>H</td>\n",
       "      <td>2024-10-01</td>\n",
       "      <td>1.1</td>\n",
       "      <td>D</td>\n",
       "    </tr>\n",
       "    <tr>\n",
       "      <th>4</th>\n",
       "      <td>F</td>\n",
       "      <td>2000.0</td>\n",
       "      <td>Royal Enfield</td>\n",
       "      <td>Fifth</td>\n",
       "      <td>L</td>\n",
       "      <td>2019-12-03</td>\n",
       "      <td>2.2</td>\n",
       "      <td>E</td>\n",
       "    </tr>\n",
       "  </tbody>\n",
       "</table>\n",
       "</div>"
      ],
      "text/plain": [
       "  Brand   Price           Name newbrand Price_Cat    newDate Price_newCat  \\\n",
       "0     A  3750.0      Van Heuse    First         H 2024-05-04          1.1   \n",
       "1     B  2500.0           Tata   Second         A 2024-06-10          3.4   \n",
       "2     D  2125.0       Mahindra    Third         L 2024-10-29          2.2   \n",
       "3     E  2825.0           Hero   Fourth         H 2024-10-01          1.1   \n",
       "4     F  2000.0  Royal Enfield    Fifth         L 2019-12-03          2.2   \n",
       "\n",
       "  newPrice  \n",
       "0        A  \n",
       "1        B  \n",
       "2        C  \n",
       "3        D  \n",
       "4        E  "
      ]
     },
     "execution_count": 117,
     "metadata": {},
     "output_type": "execute_result"
    }
   ],
   "source": [
    "#transforming numeric to object\n",
    "\n",
    "order3 = {3750:'A',  2500:'B', 2125:'C', 2825:'C', 2825:'D', 2000:'E'}\n",
    "finaldata['newPrice']= finaldata['Price'].map(order3)\n",
    "finaldata"
   ]
  },
  {
   "cell_type": "code",
   "execution_count": 143,
   "id": "e67a6ad5-592c-4fa1-a10b-6ff83fcbd350",
   "metadata": {
    "tags": []
   },
   "outputs": [
    {
     "data": {
      "text/html": [
       "<div>\n",
       "<style scoped>\n",
       "    .dataframe tbody tr th:only-of-type {\n",
       "        vertical-align: middle;\n",
       "    }\n",
       "\n",
       "    .dataframe tbody tr th {\n",
       "        vertical-align: top;\n",
       "    }\n",
       "\n",
       "    .dataframe thead th {\n",
       "        text-align: right;\n",
       "    }\n",
       "</style>\n",
       "<table border=\"1\" class=\"dataframe\">\n",
       "  <thead>\n",
       "    <tr style=\"text-align: right;\">\n",
       "      <th></th>\n",
       "      <th>Price</th>\n",
       "      <th>Name</th>\n",
       "      <th>newbrand</th>\n",
       "      <th>Price_Cat</th>\n",
       "      <th>newDate</th>\n",
       "      <th>Price_newCat</th>\n",
       "      <th>newPrice</th>\n",
       "      <th>Brand_A</th>\n",
       "      <th>Brand_B</th>\n",
       "      <th>Brand_D</th>\n",
       "      <th>Brand_E</th>\n",
       "      <th>Brand_F</th>\n",
       "    </tr>\n",
       "  </thead>\n",
       "  <tbody>\n",
       "    <tr>\n",
       "      <th>0</th>\n",
       "      <td>3750.0</td>\n",
       "      <td>Van Heuse</td>\n",
       "      <td>First</td>\n",
       "      <td>H</td>\n",
       "      <td>2024-05-04</td>\n",
       "      <td>1.1</td>\n",
       "      <td>A</td>\n",
       "      <td>True</td>\n",
       "      <td>False</td>\n",
       "      <td>False</td>\n",
       "      <td>False</td>\n",
       "      <td>False</td>\n",
       "    </tr>\n",
       "    <tr>\n",
       "      <th>1</th>\n",
       "      <td>2500.0</td>\n",
       "      <td>Tata</td>\n",
       "      <td>Second</td>\n",
       "      <td>A</td>\n",
       "      <td>2024-06-10</td>\n",
       "      <td>3.4</td>\n",
       "      <td>B</td>\n",
       "      <td>False</td>\n",
       "      <td>True</td>\n",
       "      <td>False</td>\n",
       "      <td>False</td>\n",
       "      <td>False</td>\n",
       "    </tr>\n",
       "    <tr>\n",
       "      <th>2</th>\n",
       "      <td>2125.0</td>\n",
       "      <td>Mahindra</td>\n",
       "      <td>Third</td>\n",
       "      <td>L</td>\n",
       "      <td>2024-10-29</td>\n",
       "      <td>2.2</td>\n",
       "      <td>C</td>\n",
       "      <td>False</td>\n",
       "      <td>False</td>\n",
       "      <td>True</td>\n",
       "      <td>False</td>\n",
       "      <td>False</td>\n",
       "    </tr>\n",
       "    <tr>\n",
       "      <th>3</th>\n",
       "      <td>2825.0</td>\n",
       "      <td>Hero</td>\n",
       "      <td>Fourth</td>\n",
       "      <td>H</td>\n",
       "      <td>2024-10-01</td>\n",
       "      <td>1.1</td>\n",
       "      <td>D</td>\n",
       "      <td>False</td>\n",
       "      <td>False</td>\n",
       "      <td>False</td>\n",
       "      <td>True</td>\n",
       "      <td>False</td>\n",
       "    </tr>\n",
       "    <tr>\n",
       "      <th>4</th>\n",
       "      <td>2000.0</td>\n",
       "      <td>Royal Enfield</td>\n",
       "      <td>Fifth</td>\n",
       "      <td>L</td>\n",
       "      <td>2019-12-03</td>\n",
       "      <td>2.2</td>\n",
       "      <td>E</td>\n",
       "      <td>False</td>\n",
       "      <td>False</td>\n",
       "      <td>False</td>\n",
       "      <td>False</td>\n",
       "      <td>True</td>\n",
       "    </tr>\n",
       "  </tbody>\n",
       "</table>\n",
       "</div>"
      ],
      "text/plain": [
       "    Price           Name newbrand Price_Cat    newDate Price_newCat newPrice  \\\n",
       "0  3750.0      Van Heuse    First         H 2024-05-04          1.1        A   \n",
       "1  2500.0           Tata   Second         A 2024-06-10          3.4        B   \n",
       "2  2125.0       Mahindra    Third         L 2024-10-29          2.2        C   \n",
       "3  2825.0           Hero   Fourth         H 2024-10-01          1.1        D   \n",
       "4  2000.0  Royal Enfield    Fifth         L 2019-12-03          2.2        E   \n",
       "\n",
       "   Brand_A  Brand_B  Brand_D  Brand_E  Brand_F  \n",
       "0     True    False    False    False    False  \n",
       "1    False     True    False    False    False  \n",
       "2    False    False     True    False    False  \n",
       "3    False    False    False     True    False  \n",
       "4    False    False    False    False     True  "
      ]
     },
     "execution_count": 143,
     "metadata": {},
     "output_type": "execute_result"
    }
   ],
   "source": [
    "#Object to binary\n",
    "latestdata = pd.get_dummies(finaldata, columns=['Brand'])\n",
    "latestdata\n",
    "\n",
    "#similar to onehot encoding"
   ]
  },
  {
   "cell_type": "code",
   "execution_count": 145,
   "id": "08569340-3c70-43c3-b916-02526f82e93c",
   "metadata": {
    "tags": []
   },
   "outputs": [
    {
     "data": {
      "text/html": [
       "<div>\n",
       "<style scoped>\n",
       "    .dataframe tbody tr th:only-of-type {\n",
       "        vertical-align: middle;\n",
       "    }\n",
       "\n",
       "    .dataframe tbody tr th {\n",
       "        vertical-align: top;\n",
       "    }\n",
       "\n",
       "    .dataframe thead th {\n",
       "        text-align: right;\n",
       "    }\n",
       "</style>\n",
       "<table border=\"1\" class=\"dataframe\">\n",
       "  <thead>\n",
       "    <tr style=\"text-align: right;\">\n",
       "      <th></th>\n",
       "      <th>Price</th>\n",
       "      <th>Name</th>\n",
       "      <th>newbrand</th>\n",
       "      <th>Price_Cat</th>\n",
       "      <th>newDate</th>\n",
       "      <th>Price_newCat</th>\n",
       "      <th>newPrice</th>\n",
       "      <th>Brand_A</th>\n",
       "      <th>Brand_B</th>\n",
       "      <th>Brand_D</th>\n",
       "      <th>Brand_E</th>\n",
       "      <th>Brand_F</th>\n",
       "    </tr>\n",
       "  </thead>\n",
       "  <tbody>\n",
       "    <tr>\n",
       "      <th>0</th>\n",
       "      <td>3750.0</td>\n",
       "      <td>Van Heuse</td>\n",
       "      <td>First</td>\n",
       "      <td>H</td>\n",
       "      <td>2024-05-04</td>\n",
       "      <td>1.1</td>\n",
       "      <td>A</td>\n",
       "      <td>1</td>\n",
       "      <td>0</td>\n",
       "      <td>0</td>\n",
       "      <td>0</td>\n",
       "      <td>0</td>\n",
       "    </tr>\n",
       "    <tr>\n",
       "      <th>1</th>\n",
       "      <td>2500.0</td>\n",
       "      <td>Tata</td>\n",
       "      <td>Second</td>\n",
       "      <td>A</td>\n",
       "      <td>2024-06-10</td>\n",
       "      <td>3.4</td>\n",
       "      <td>B</td>\n",
       "      <td>0</td>\n",
       "      <td>1</td>\n",
       "      <td>0</td>\n",
       "      <td>0</td>\n",
       "      <td>0</td>\n",
       "    </tr>\n",
       "    <tr>\n",
       "      <th>2</th>\n",
       "      <td>2125.0</td>\n",
       "      <td>Mahindra</td>\n",
       "      <td>Third</td>\n",
       "      <td>L</td>\n",
       "      <td>2024-10-29</td>\n",
       "      <td>2.2</td>\n",
       "      <td>C</td>\n",
       "      <td>0</td>\n",
       "      <td>0</td>\n",
       "      <td>1</td>\n",
       "      <td>0</td>\n",
       "      <td>0</td>\n",
       "    </tr>\n",
       "    <tr>\n",
       "      <th>3</th>\n",
       "      <td>2825.0</td>\n",
       "      <td>Hero</td>\n",
       "      <td>Fourth</td>\n",
       "      <td>H</td>\n",
       "      <td>2024-10-01</td>\n",
       "      <td>1.1</td>\n",
       "      <td>D</td>\n",
       "      <td>0</td>\n",
       "      <td>0</td>\n",
       "      <td>0</td>\n",
       "      <td>1</td>\n",
       "      <td>0</td>\n",
       "    </tr>\n",
       "    <tr>\n",
       "      <th>4</th>\n",
       "      <td>2000.0</td>\n",
       "      <td>Royal Enfield</td>\n",
       "      <td>Fifth</td>\n",
       "      <td>L</td>\n",
       "      <td>2019-12-03</td>\n",
       "      <td>2.2</td>\n",
       "      <td>E</td>\n",
       "      <td>0</td>\n",
       "      <td>0</td>\n",
       "      <td>0</td>\n",
       "      <td>0</td>\n",
       "      <td>1</td>\n",
       "    </tr>\n",
       "  </tbody>\n",
       "</table>\n",
       "</div>"
      ],
      "text/plain": [
       "    Price           Name newbrand Price_Cat    newDate Price_newCat newPrice  \\\n",
       "0  3750.0      Van Heuse    First         H 2024-05-04          1.1        A   \n",
       "1  2500.0           Tata   Second         A 2024-06-10          3.4        B   \n",
       "2  2125.0       Mahindra    Third         L 2024-10-29          2.2        C   \n",
       "3  2825.0           Hero   Fourth         H 2024-10-01          1.1        D   \n",
       "4  2000.0  Royal Enfield    Fifth         L 2019-12-03          2.2        E   \n",
       "\n",
       "   Brand_A  Brand_B  Brand_D  Brand_E  Brand_F  \n",
       "0        1        0        0        0        0  \n",
       "1        0        1        0        0        0  \n",
       "2        0        0        1        0        0  \n",
       "3        0        0        0        1        0  \n",
       "4        0        0        0        0        1  "
      ]
     },
     "execution_count": 145,
     "metadata": {},
     "output_type": "execute_result"
    }
   ],
   "source": [
    "order4 = {True:1, False:0}\n",
    "l = ['Brand_B', 'Brand_D', 'Brand_E', 'Brand_F']\n",
    "latestdata['Brand_A'] = latestdata['Brand_A'].map(order4)\n",
    "for i in l:\n",
    "    latestdata[i] = latestdata[i].map(order4)\n",
    "latestdata"
   ]
  },
  {
   "cell_type": "code",
   "execution_count": 149,
   "id": "bed129ab-dbb9-4cde-8ad1-1470fa8f6d67",
   "metadata": {
    "tags": []
   },
   "outputs": [
    {
     "data": {
      "image/png": "[encoded data removed]",
      "text/plain": [
       "<Figure size 640x480 with 1 Axes>"
      ]
     },
     "metadata": {},
     "output_type": "display_data"
    }
   ],
   "source": [
    "import matplotlib.pyplot as plt\n",
    "\n",
    "a = list(range(1,11))\n",
    "b = list(range(5,55,5))\n",
    "c = list(range(10,110,10))\n",
    "d = list(range(20,210, 20))\n",
    "\n",
    "plt.plot(a,a, 'g^', a,b, 'bs', a,c, 'r--', a, d, 'mo')\n",
    "\n",
    "''' a vs a green color, ^ shaped, second a vs b: blue colored square, third a vs c red -- line and so on '''\n",
    "\n",
    "plt.xlim(0,11)\n",
    "plt.ylim(0,220)\n",
    "\n",
    "plt.xlabel('x-axis')\n",
    "plt.title('Multiple lines')\n",
    "\n",
    "plt.grid(True, color = 'k')\n",
    "plt.show()"
   ]
  },
  {
   "cell_type": "code",
   "execution_count": 151,
   "id": "a2cd7cb0-2d93-45b0-b3c3-e7486d2d182b",
   "metadata": {
    "tags": []
   },
   "outputs": [
    {
     "data": {
      "image/png": "[encoded data removed]",
      "text/plain": [
       "<Figure size 640x480 with 1 Axes>"
      ]
     },
     "metadata": {},
     "output_type": "display_data"
    }
   ],
   "source": [
    "list1 = [10, 30, 40, 30, 60, 70, 80, 100, 70, 40]\n",
    "\n",
    "plt.pie(list1, labels = list1)\n",
    "plt.show()"
   ]
  },
  {
   "cell_type": "code",
   "execution_count": 153,
   "id": "c49ac4c1-f472-454d-ad2b-49c9b150d79e",
   "metadata": {
    "tags": []
   },
   "outputs": [
    {
     "data": {
      "image/png": "[encoded data removed]",
      "text/plain": [
       "<Figure size 640x480 with 1 Axes>"
      ]
     },
     "metadata": {},
     "output_type": "display_data"
    }
   ],
   "source": [
    "plt.violinplot(list1)\n",
    "plt.show()"
   ]
  },
  {
   "cell_type": "code",
   "execution_count": 155,
   "id": "e4624a89-46ea-4a45-a592-d7c27f87bd40",
   "metadata": {
    "tags": []
   },
   "outputs": [
    {
     "data": {
      "image/png": "[encoded data removed]",
      "text/plain": [
       "<Figure size 640x480 with 1 Axes>"
      ]
     },
     "metadata": {},
     "output_type": "display_data"
    }
   ],
   "source": [
    "l2 = [25, 38, 12, 39, 50, 45, 90, 21, 23, 67]\n",
    "plt.violinplot(l2)\n",
    "plt.show()"
   ]
  },
  {
   "cell_type": "code",
   "execution_count": 159,
   "id": "dab11bd8-d5dd-4dbb-b468-c6cc5e63db70",
   "metadata": {
    "tags": []
   },
   "outputs": [
    {
     "data": {
      "image/png": "[encoded data removed]",
      "text/plain": [
       "<Figure size 640x480 with 1 Axes>"
      ]
     },
     "metadata": {},
     "output_type": "display_data"
    }
   ],
   "source": [
    "comp = ['Tata', 'RE', 'Nokia', 'TCS', 'Patanjali', 'Mahindra', 'Bajaj', 'Dabur', 'Hero', 'TVS']\n",
    "plt.scatter(comp, a, color = 'green')\n",
    "plt.scatter(comp, b, color = 'blue')\n",
    "plt.scatter(comp, c, color = 'red')\n",
    "plt.scatter(comp, d, color = 'orange')\n",
    "\n",
    "plt.xlabel('X-axis')\n",
    "plt.ylabel('Profit')\n",
    "plt.title(\"mera title\")\n",
    "plt.show()"
   ]
  },
  {
   "cell_type": "code",
   "execution_count": 161,
   "id": "ff34d17a-42d1-489f-a1ed-e37438be3fec",
   "metadata": {
    "tags": []
   },
   "outputs": [
    {
     "data": {
      "image/png": "[encoded data removed]",
      "text/plain": [
       "<Figure size 640x480 with 1 Axes>"
      ]
     },
     "metadata": {},
     "output_type": "display_data"
    }
   ],
   "source": [
    "plt.barh([2,4,5,6,7], width = [1,2,3,2,1])\n",
    "plt.show()"
   ]
  },
  {
   "cell_type": "code",
   "execution_count": 165,
   "id": "850cc636-46c3-4578-b468-ceabfbb10da1",
   "metadata": {
    "tags": []
   },
   "outputs": [
    {
     "data": {
      "image/png": "[encoded data removed]",
      "text/plain": [
       "<Figure size 640x480 with 1 Axes>"
      ]
     },
     "metadata": {},
     "output_type": "display_data"
    }
   ],
   "source": [
    "plt.bar([2,4,5,6,7], height = [1,2,3,2,1])\n",
    "plt.show()"
   ]
  },
  {
   "cell_type": "code",
   "execution_count": 175,
   "id": "912aac18-5035-484d-bf1b-e301b2a49ed0",
   "metadata": {
    "tags": []
   },
   "outputs": [
    {
     "data": {
      "text/plain": [
       "Text(0.5, 1.0, '4 bar')"
      ]
     },
     "execution_count": 175,
     "metadata": {},
     "output_type": "execute_result"
    },
    {
     "data": {
      "image/png": "[encoded data removed]",
      "text/plain": [
       "<Figure size 2000x2000 with 4 Axes>"
      ]
     },
     "metadata": {},
     "output_type": "display_data"
    }
   ],
   "source": [
    "plt.figure(figsize = (20,20))\n",
    "plt.rcParams.update({'font.size' : 22})\n",
    "\n",
    "plt.figure(1, figsize = (10,10))\n",
    "plt.subplot(221)\n",
    "plt.bar(comp, a, color = 'red')\n",
    "plt.title('First bar')\n",
    "\n",
    "plt.subplot(222)\n",
    "plt.bar(comp, b, color = 'blue')\n",
    "plt.title('2 bar')\n",
    "\n",
    "plt.subplot(223)\n",
    "plt.bar(comp, c, color = 'yellow')\n",
    "plt.title('3 bar')\n",
    "\n",
    "plt.subplot(224)\n",
    "plt.bar(comp, d, color = 'black')\n",
    "plt.title('4 bar')\n",
    "\n",
    "\n"
   ]
  },
  {
   "cell_type": "code",
   "execution_count": null,
   "id": "af408572-9228-43a9-9acb-bb8cce24e3db",
   "metadata": {},
   "outputs": [],
   "source": []
  }
 ],
 "metadata": {
  "kernelspec": {
   "display_name": "Python 3 (ipykernel)",
   "language": "python",
   "name": "python3"
  },
  "language_info": {
   "codemirror_mode": {
    "name": "ipython",
    "version": 3
   },
   "file_extension": ".py",
   "mimetype": "text/x-python",
   "name": "python",
   "nbconvert_exporter": "python",
   "pygments_lexer": "ipython3",
   "version": "3.11.9"
  }
 },
 "nbformat": 4,
 "nbformat_minor": 5
}
