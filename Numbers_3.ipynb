{
  "cells": [
    {
      "cell_type": "markdown",
      "metadata": {
        "id": "view-in-github",
        "colab_type": "text"
      },
      "source": [
        "<a href=\"https://colab.research.google.com/github/abhishekatujjain/Python/blob/master/Chapter_3.ipynb\" target=\"_parent\"><img src=\"https://colab.research.google.com/assets/colab-badge.svg\" alt=\"Open In Colab\"/></a>"
      ]
    },
    {
      "cell_type": "code",
      "execution_count": null,
      "metadata": {
        "id": "qWgaqoHot2rU",
        "outputId": "3732f341-bd86-4dc4-9b07-9628488247a3"
      },
      "outputs": [
        {
          "name": "stdout",
          "output_type": "stream",
          "text": [
            "6\n",
            "3\n"
          ]
        }
      ],
      "source": [
        "shortlist = [1, 2, 3]\n",
        "print(sum(shortlist))\n",
        "print(len(shortlist))"
      ]
    },
    {
      "cell_type": "code",
      "execution_count": null,
      "metadata": {
        "id": "2Z9TrZhut2rg",
        "outputId": "b104e6f7-b44c-4eaa-b7a0-9906d99cafd8"
      },
      "outputs": [
        {
          "name": "stdout",
          "output_type": "stream",
          "text": [
            "2.0\n"
          ]
        }
      ],
      "source": [
        "# calculat mean\n",
        "def calculatemean(numbers):\n",
        "    s= sum(numbers)\n",
        "    l = len(numbers)\n",
        "    return s/l\n",
        "\n",
        "if __name__==\"__main__\":\n",
        "    print(calculatemean(shortlist))"
      ]
    },
    {
      "cell_type": "code",
      "execution_count": null,
      "metadata": {
        "id": "GYcWGta6t2ri",
        "outputId": "aa82d9b0-63ea-42bf-8e99-d594c56160fc"
      },
      "outputs": [
        {
          "data": {
            "text/plain": [
              "[4, 9, 15]"
            ]
          },
          "execution_count": 4,
          "metadata": {},
          "output_type": "execute_result"
        }
      ],
      "source": [
        "# median\n",
        "samplelist = [4,9,15]\n",
        "samplelist.sort()\n",
        "samplelist"
      ]
    },
    {
      "cell_type": "code",
      "execution_count": null,
      "metadata": {
        "id": "QZ-NXCQut2rl",
        "outputId": "2a24f8fe-2ecd-45a3-da5e-13eda0275223"
      },
      "outputs": [
        {
          "name": "stdout",
          "output_type": "stream",
          "text": [
            "Median donation over the last 12 days is 500.0\n"
          ]
        }
      ],
      "source": [
        "def calculate_median(numbers):\n",
        "    N = len(numbers)\n",
        "    numbers.sort()\n",
        "    # Find the median\n",
        "    if N % 2 == 0:\n",
        "        # if N is even\n",
        "        m1 = N/2\n",
        "        m2 = (N/2) + 1\n",
        "        # Convert to integer, match position\n",
        "        m1 = int(m1) - 1\n",
        "        m2 = int(m2) - 1\n",
        "        median = (numbers[m1] + numbers[m2])/2\n",
        "    else:\n",
        "        m = (N+1)/2\n",
        "        # Convert to integer, match position\n",
        "        m = int(m) - 1\n",
        "        median = numbers[m]\n",
        "    return median\n",
        "if __name__ == '__main__':\n",
        "    donations = [100, 60, 70, 900, 100, 200, 500, 500, 503, 600, 1000, 1200]\n",
        "    median = calculate_median(donations)\n",
        "    N = len(donations)\n",
        "    print('Median donation over the last {0} days is {1}'.format(N, median))"
      ]
    },
    {
      "cell_type": "code",
      "execution_count": null,
      "metadata": {
        "id": "MX67Y5SAt2rn",
        "outputId": "6630abb4-1850-479e-cd6d-a4ee5c8fb33e"
      },
      "outputs": [
        {
          "data": {
            "text/plain": [
              "[(4, 2), (2, 1), (1, 1), (3, 1)]"
            ]
          },
          "execution_count": 6,
          "metadata": {},
          "output_type": "execute_result"
        }
      ],
      "source": [
        "# Finding the Mode and Creating a Frequency Table\n",
        "# creating frequenc list\n",
        "simplelist = [4, 2, 1, 3, 4]\n",
        "from collections import Counter\n",
        "c = Counter(simplelist)\n",
        "c.most_common()"
      ]
    },
    {
      "cell_type": "code",
      "execution_count": null,
      "metadata": {
        "id": "FBmZgG7Zt2rp",
        "outputId": "313f386f-bbd3-4744-f7cb-946e848cff53"
      },
      "outputs": [
        {
          "data": {
            "text/plain": [
              "collections.Counter"
            ]
          },
          "execution_count": 7,
          "metadata": {},
          "output_type": "execute_result"
        }
      ],
      "source": [
        "type(c)"
      ]
    },
    {
      "cell_type": "code",
      "execution_count": null,
      "metadata": {
        "id": "UOmVG6oVt2rq",
        "outputId": "5734e97c-b173-4654-8867-68246b9467c4"
      },
      "outputs": [
        {
          "name": "stdout",
          "output_type": "stream",
          "text": [
            "[(4, 2)]\n",
            "[(4, 2), (2, 1)]\n"
          ]
        }
      ],
      "source": [
        "print(c.most_common(1))\n",
        "print(c.most_common(2))"
      ]
    },
    {
      "cell_type": "code",
      "execution_count": null,
      "metadata": {
        "id": "a6vJtUJMt2rr",
        "outputId": "abc3f824-037c-4084-8073-02872f302462"
      },
      "outputs": [
        {
          "name": "stdout",
          "output_type": "stream",
          "text": [
            "[(4, 2)]\n",
            "[(4, 2), (3, 2)]\n"
          ]
        }
      ],
      "source": [
        "newlist = [4,3,5,5,3,4]\n",
        "b= Counter(newlist)\n",
        "print(b.most_common(1))  # for multimodal, firt come first one\n",
        "print(b.most_common(2))"
      ]
    },
    {
      "cell_type": "code",
      "execution_count": null,
      "metadata": {
        "id": "4dpm6pZct2rs",
        "outputId": "d18f1c1b-df13-4fee-b689-e50e5ef710c4"
      },
      "outputs": [
        {
          "name": "stdout",
          "output_type": "stream",
          "text": [
            "4\n"
          ]
        }
      ],
      "source": [
        "mode = c.most_common(1)\n",
        "print(mode[0][0])"
      ]
    },
    {
      "cell_type": "code",
      "execution_count": null,
      "metadata": {
        "id": "l_ny9viXt2rt",
        "outputId": "84bbfa35-72b9-49c3-c720-b0802ad91244"
      },
      "outputs": [
        {
          "name": "stdout",
          "output_type": "stream",
          "text": [
            "The mode(s) of the list of numbers are:\n",
            "5\n",
            "4\n"
          ]
        }
      ],
      "source": [
        "# modes for multimodel data\n",
        "from collections import Counter\n",
        "def calculate_mode(numbers):\n",
        "    c = Counter(numbers)\n",
        "    numbers_freq = c.most_common()\n",
        "    max_count = numbers_freq[0][1]\n",
        "    modes = []\n",
        "    for num in numbers_freq:\n",
        "        if num[1] == max_count:\n",
        "            modes.append(num[0])\n",
        "    return modes\n",
        "if __name__ == '__main__':\n",
        "    scores = [5, 5, 5, 4, 4, 4, 9, 1, 3]\n",
        "    modes = calculate_mode(scores)\n",
        "    print('The mode(s) of the list of numbers are:')\n",
        "    for mode in modes:\n",
        "        print(mode)"
      ]
    },
    {
      "cell_type": "code",
      "execution_count": null,
      "metadata": {
        "id": "fgXjG1zpt2ru",
        "outputId": "024cf848-3df9-40bd-e7bc-b518ad7b1177"
      },
      "outputs": [
        {
          "name": "stdout",
          "output_type": "stream",
          "text": [
            "Number\tFrequency\n",
            "9\t5\n",
            "6\t3\n",
            "7\t2\n",
            "8\t2\n",
            "10\t2\n",
            "5\t2\n",
            "1\t2\n",
            "2\t1\n",
            "4\t1\n"
          ]
        }
      ],
      "source": [
        "# creating frequency list\n",
        "from collections import Counter\n",
        "def frequency_table(numbers):\n",
        "    table = Counter(numbers)\n",
        "    print('Number\\tFrequency')\n",
        "    for number in table.most_common():\n",
        "        print('{0}\\t{1}'.format(number[0], number[1]))\n",
        "if __name__=='__main__':\n",
        "    scores = [7, 8, 9, 2, 10, 9, 9, 9, 9, 4, 5, 6, 1, 5, 6, 7, 8, 6, 1, 10]\n",
        "    frequency_table(scores)"
      ]
    },
    {
      "cell_type": "code",
      "execution_count": null,
      "metadata": {
        "id": "OyX-QGWTt2ru",
        "outputId": "a340e131-e07d-410e-a45b-955a1404a343"
      },
      "outputs": [
        {
          "name": "stdout",
          "output_type": "stream",
          "text": [
            "Lowest: 60 Highest: 1200 Range: 1140\n"
          ]
        }
      ],
      "source": [
        "# Measuring the Dispersion\n",
        "def find_range(numbers):\n",
        "    lowest = min(numbers)\n",
        "    highest = max(numbers)\n",
        "    # Find the range\n",
        "    r = highest-lowest\n",
        "    return lowest, highest, r\n",
        "\n",
        "if __name__ == '__main__':\n",
        "    donations = [100, 60, 70, 900, 100, 200, 500, 500, 503, 600, 1000, 1200]\n",
        "    lowest, highest, r = find_range(donations)\n",
        "    print('Lowest: {0} Highest: {1} Range: {2}'.format(lowest, highest, r))"
      ]
    },
    {
      "cell_type": "code",
      "execution_count": null,
      "metadata": {
        "id": "D3vLCzV4t2ru",
        "outputId": "30a72339-dfa6-4818-e8b4-52c416f71403"
      },
      "outputs": [
        {
          "name": "stdout",
          "output_type": "stream",
          "text": [
            "The variance of the list of numbers is 141047.35416666666\n",
            "The standard deviation of the list of numbers is 375.5627166887931\n"
          ]
        }
      ],
      "source": [
        "'''\n",
        "Find the variance and standard deviation of a list of numbers\n",
        "'''\n",
        "def calculate_mean(numbers):\n",
        "    s = sum(numbers)\n",
        "    N = len(numbers)\n",
        "    # Calculate the mean\n",
        "    mean = s/N\n",
        "    return mean\n",
        "def find_differences(numbers):\n",
        "    # Find the mean\n",
        "    mean = calculate_mean(numbers)\n",
        "    # Find the differences from the mean\n",
        "    diff = []\n",
        "    for num in numbers:\n",
        "        diff.append(num-mean)\n",
        "    return diff\n",
        "def calculate_variance(numbers):\n",
        "    # Find the list of differences\n",
        "    diff = find_differences(numbers)\n",
        "    # Find the squared differences\n",
        "    squared_diff = []\n",
        "    for d in diff:\n",
        "        squared_diff.append(d**2)\n",
        "        # Find the variance\n",
        "        sum_squared_diff = sum(squared_diff)\n",
        "        variance = sum_squared_diff/len(numbers)\n",
        "    return variance\n",
        "if __name__ == '__main__':\n",
        "    donations = [100, 60, 70, 900, 100, 200, 500, 500, 503, 600, 1000, 1200]\n",
        "    variance = calculate_variance(donations)\n",
        "    print('The variance of the list of numbers is {0}'.format(variance))\n",
        "    std = variance**0.5\n",
        "    print('The standard deviation of the list of numbers is {0}'.format(std))"
      ]
    },
    {
      "cell_type": "code",
      "execution_count": null,
      "metadata": {
        "id": "yIUAPc1Pt2rv",
        "outputId": "83208ec1-ed92-4361-855a-824db0e022cf"
      },
      "outputs": [
        {
          "name": "stdout",
          "output_type": "stream",
          "text": [
            "477.75\n",
            "141047.35416666666\n"
          ]
        }
      ],
      "source": [
        "import numpy as np\n",
        "print(np.mean(donations))\n",
        "print(np.var(donations))"
      ]
    },
    {
      "cell_type": "code",
      "execution_count": null,
      "metadata": {
        "id": "Tx3ADQiMt2rw",
        "outputId": "50741b60-a67c-4bf0-ac23-7dd6fb87089b"
      },
      "outputs": [
        {
          "name": "stdout",
          "output_type": "stream",
          "text": [
            "The variance of the list of numbers is 135.38888888888889\n",
            "The standard deviation of the list of numbers is 11.63567311713804\n"
          ]
        }
      ],
      "source": [
        "donation1= [382, 389, 377, 397, 396, 368, 369, 392, 398, 367, 393,396]\n",
        "variance1 = calculate_variance(donation1)\n",
        "print('The variance of the list of numbers is {0}'.format(variance))\n",
        "std1 = variance1**0.5\n",
        "print('The standard deviation of the list of numbers is {0}'.format(std))"
      ]
    },
    {
      "cell_type": "code",
      "execution_count": null,
      "metadata": {
        "id": "NZ6u7TB9t2rw",
        "outputId": "fa5fc5f9-1aae-43dc-cbe6-7fa17c8030ad"
      },
      "outputs": [
        {
          "data": {
            "image/png": "[encoded data removed]",
            "text/plain": [
              "<Figure size 432x288 with 1 Axes>"
            ]
          },
          "metadata": {
            "needs_background": "light"
          },
          "output_type": "display_data"
        }
      ],
      "source": [
        "from matplotlib import pyplot as plt\n",
        "plt.plot([0.1, 0.2, 0.3, 0.4], [1,2,3,4], label='first plot')\n",
        "plt.plot([0.1, 0.2, 0.3, 0.4], [1,2,8,16],label='second plot')\n",
        "plt.legend()\n",
        "plt.show()"
      ]
    },
    {
      "cell_type": "code",
      "execution_count": null,
      "metadata": {
        "id": "fbG0dnQot2rx",
        "outputId": "3a18fd53-7957-4c54-a0b1-482b25d192cb"
      },
      "outputs": [
        {
          "data": {
            "image/png": "[encoded data removed]",
            "text/plain": [
              "<Figure size 432x288 with 1 Axes>"
            ]
          },
          "metadata": {
            "needs_background": "light"
          },
          "output_type": "display_data"
        }
      ],
      "source": [
        "plt.plot([1,2,3,4,12,15],'g*', [1,4,9,16], 'ro')    #g* green star,  ro  = red 0\n",
        "plt.show()"
      ]
    },
    {
      "cell_type": "code",
      "execution_count": null,
      "metadata": {
        "id": "iTrQY2qct2rx"
      },
      "outputs": [],
      "source": [
        "# Calculating the Correlation Between Two Data Sets\n",
        "def find_corr_x_y(x,y):\n",
        "    n = len(x)\n",
        "    # Find the sum of the products\n",
        "    prod = []\n",
        "    for xi,yi in zip(x,y):\n",
        "        prod.append(xi*yi)\n",
        "\n",
        "    sum_prod_x_y = sum(prod)\n",
        "    sum_x = sum(x)\n",
        "    sum_y = sum(y)\n",
        "    squared_sum_x = sum_x**2\n",
        "    squared_sum_y = sum_y**2\n",
        "    x_square = []\n",
        "\n",
        "    for xi in x:\n",
        "        x_square.append(xi**2)\n",
        "    # Find the sum\n",
        "    x_square_sum = sum(x_square)\n",
        "    y_square=[]\n",
        "\n",
        "    for yi in y:\n",
        "        y_square.append(yi**2)\n",
        "\n",
        "    # Find the sum\n",
        "    y_square_sum = sum(y_square)\n",
        "\n",
        "    # Use formula to calculate correlation\n",
        "    numerator = n*sum_prod_x_y - sum_x*sum_y\n",
        "    denominator_term1 = n*x_square_sum - squared_sum_x\n",
        "    denominator_term2 = n*y_square_sum - squared_sum_y\n",
        "    denominator = (denominator_term1*denominator_term2)**0.5\n",
        "    correlation = numerator/denominator\n",
        "\n",
        "    return correlation"
      ]
    },
    {
      "cell_type": "code",
      "execution_count": null,
      "metadata": {
        "id": "fTE0lpI9t2rx",
        "outputId": "4a96ae09-5162-41fd-c7bb-e995be2285da"
      },
      "outputs": [
        {
          "name": "stdout",
          "output_type": "stream",
          "text": [
            "0.9953243433267447\n"
          ]
        }
      ],
      "source": [
        "x = [1,3,4,6,79]\n",
        "y = [7,7,2,5,84]\n",
        "print(find_corr_x_y(x,y))"
      ]
    },
    {
      "cell_type": "code",
      "execution_count": null,
      "metadata": {
        "id": "qFhl_1unt2ry",
        "outputId": "61843ddf-4e64-4b71-ac5e-f8e03c046fd5"
      },
      "outputs": [
        {
          "data": {
            "text/plain": [
              "<matplotlib.collections.PathCollection at 0x251a6c8ba8>"
            ]
          },
          "execution_count": 26,
          "metadata": {},
          "output_type": "execute_result"
        },
        {
          "data": {
            "image/png": "[encoded data removed]",
            "text/plain": [
              "<Figure size 432x288 with 1 Axes>"
            ]
          },
          "metadata": {
            "needs_background": "light"
          },
          "output_type": "display_data"
        }
      ],
      "source": [
        "plt.scatter(x,y)"
      ]
    },
    {
      "cell_type": "code",
      "execution_count": null,
      "metadata": {
        "id": "zAN-EXRjt2ry",
        "outputId": "3f8aa37a-6f4a-4fa6-ad8c-b9a299b03bb7"
      },
      "outputs": [
        {
          "data": {
            "text/plain": [
              "[<matplotlib.lines.Line2D at 0x251b7b8ba8>,\n",
              " <matplotlib.lines.Line2D at 0x251b7b8cf8>]"
            ]
          },
          "execution_count": 29,
          "metadata": {},
          "output_type": "execute_result"
        },
        {
          "data": {
            "image/png": "[encoded data removed]",
            "text/plain": [
              "<Figure size 432x288 with 1 Axes>"
            ]
          },
          "metadata": {
            "needs_background": "light"
          },
          "output_type": "display_data"
        }
      ],
      "source": [
        "plt.plot(x,'g*',y,'bo')"
      ]
    },
    {
      "cell_type": "code",
      "execution_count": null,
      "metadata": {
        "id": "ZkebxtFOt2rz",
        "outputId": "f66bc27e-c524-4f73-80c4-db50882b2ed8"
      },
      "outputs": [
        {
          "data": {
            "image/png": "[encoded data removed]",
            "text/plain": [
              "<Figure size 432x288 with 1 Axes>"
            ]
          },
          "metadata": {
            "needs_background": "light"
          },
          "output_type": "display_data"
        }
      ],
      "source": [
        "x1 = [1,2,3,4,5]\n",
        "y1 = [3,6,4,8,9]\n",
        "x2 = [25,30,35,40,45]\n",
        "y2 = [4,7,2,7,8]\n",
        "plt.scatter(x1,y1)\n",
        "plt.show()"
      ]
    },
    {
      "cell_type": "code",
      "execution_count": null,
      "metadata": {
        "id": "EMnbcmmst2r2",
        "outputId": "559b4b8d-625f-4f8c-a159-711d48c468e0"
      },
      "outputs": [
        {
          "name": "stdout",
          "output_type": "stream",
          "text": [
            "Sum of the numbers: 5733.0\n"
          ]
        }
      ],
      "source": [
        "# Reading Data from Files\n",
        "def sum_data(filename):\n",
        "    s = 0\n",
        "    with open(filename) as f:\n",
        "        for line in f:\n",
        "            s = s + float(line)\n",
        "    print('Sum of the numbers: {0}'.format(s))\n",
        "if __name__ == '__main__':\n",
        "    sum_data('mytext.txt')"
      ]
    },
    {
      "cell_type": "code",
      "execution_count": null,
      "metadata": {
        "id": "lI1xjZ_ut2r3",
        "outputId": "fc404a44-9522-43e8-92af-03e585b5e44b"
      },
      "outputs": [
        {
          "data": {
            "image/png": "[encoded data removed]",
            "text/plain": [
              "<Figure size 432x288 with 1 Axes>"
            ]
          },
          "metadata": {
            "needs_background": "light"
          },
          "output_type": "display_data"
        }
      ],
      "source": [
        "# Reading Data from a CSV File\n",
        "import csv\n",
        "import matplotlib.pyplot as plt\n",
        "def scatter_plot(x, y):\n",
        "    plt.scatter(x, y)\n",
        "    plt.xlabel('Number')\n",
        "    plt.ylabel('Square')\n",
        "    plt.show()\n",
        "def read_csv(filename):\n",
        "    numbers = []\n",
        "    squared = []\n",
        "    with open(filename) as f:\n",
        "        reader = csv.reader(f)\n",
        "        next(reader)\n",
        "        for row in reader:\n",
        "            numbers.append(int(row[0]))\n",
        "            squared.append(int(row[1]))\n",
        "        return numbers, squared\n",
        "if __name__ == '__main__':\n",
        "    numbers, squared = read_csv('numbers.csv')\n",
        "    scatter_plot(numbers, squared)"
      ]
    },
    {
      "cell_type": "code",
      "execution_count": null,
      "metadata": {
        "id": "dSZdmFcEt2r4"
      },
      "outputs": [],
      "source": [
        "# Creating a Grouped Frequency Table\n",
        "def create_classes(numbers, n):\n",
        "    low = min(numbers)\n",
        "    high = max(numbers)\n",
        "    # Width of each class\n",
        "    width = (high - low)/n\n",
        "    classes = []\n",
        "    a = low\n",
        "    b = low + width\n",
        "    classes = []\n",
        "    while a < (high-width):\n",
        "        classes.append((a, b))\n",
        "        a = b\n",
        "        b = a + width\n",
        "# The last class may be of a size that is less than width\n",
        "    classes.append((a, high+1))\n",
        "    return classes"
      ]
    },
    {
      "cell_type": "code",
      "execution_count": null,
      "metadata": {
        "id": "ySN5CT93t2r4",
        "outputId": "3b0232a7-0c6c-4ae0-ba79-47d5134d1f13"
      },
      "outputs": [
        {
          "name": "stdout",
          "output_type": "stream",
          "text": [
            "[(1, 5.5), (5.5, 11)]\n",
            "Number\tFrequency\n",
            "(1, 5.5)\t1\n",
            "(5.5, 11)\t1\n"
          ]
        }
      ],
      "source": [
        "from collections import Counter\n",
        "def frequency_table(numb,num):\n",
        "    table = Counter(numb)\n",
        "    print('Number\\tFrequency')\n",
        "    for number in table.most_common():\n",
        "        print('{0}\\t{1}'.format(number[0], number[1]))\n",
        "if __name__=='__main__':\n",
        "    num = [7, 8, 9, 2, 10, 9, 9, 9, 9, 4, 5, 6, 1, 5, 6, 7, 8, 6, 1, 10]\n",
        "    scores = create_classes(num,2)\n",
        "    print(scores)\n",
        "    frequency_table(scores,num)   # incomplete hai"
      ]
    },
    {
      "cell_type": "code",
      "execution_count": null,
      "metadata": {
        "id": "MCm-O9K4t2r5"
      },
      "outputs": [],
      "source": []
    }
  ],
  "metadata": {
    "kernelspec": {
      "display_name": "Python 3",
      "language": "python",
      "name": "python3"
    },
    "language_info": {
      "codemirror_mode": {
        "name": "ipython",
        "version": 3
      },
      "file_extension": ".py",
      "mimetype": "text/x-python",
      "name": "python",
      "nbconvert_exporter": "python",
      "pygments_lexer": "ipython3",
      "version": "3.7.3"
    },
    "colab": {
      "provenance": [],
      "include_colab_link": true
    }
  },
  "nbformat": 4,
  "nbformat_minor": 0
}
