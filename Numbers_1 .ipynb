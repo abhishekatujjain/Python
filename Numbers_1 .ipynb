{
  "nbformat": 4,
  "nbformat_minor": 0,
  "metadata": {
    "kernelspec": {
      "display_name": "Python 3",
      "language": "python",
      "name": "python3"
    },
    "language_info": {
      "codemirror_mode": {
        "name": "ipython",
        "version": 3
      },
      "file_extension": ".py",
      "mimetype": "text/x-python",
      "name": "python",
      "nbconvert_exporter": "python",
      "pygments_lexer": "ipython3",
      "version": "3.7.3"
    },
    "colab": {
      "provenance": [],
      "include_colab_link": true
    }
  },
  "cells": [
    {
      "cell_type": "markdown",
      "metadata": {
        "id": "view-in-github",
        "colab_type": "text"
      },
      "source": [
        "<a href=\"https://colab.research.google.com/github/abhishekatujjain/Python/blob/master/Chapter_1.ipynb\" target=\"_parent\"><img src=\"https://colab.research.google.com/assets/colab-badge.svg\" alt=\"Open In Colab\"/></a>"
      ]
    },
    {
      "cell_type": "markdown",
      "metadata": {
        "id": "IM3qpQbn2LrQ"
      },
      "source": [
        "# Sample"
      ]
    },
    {
      "cell_type": "code",
      "metadata": {
        "colab": {
          "base_uri": "https://localhost:8080/",
          "height": 35
        },
        "id": "ly0PuHX42Wzu",
        "outputId": "22773369-60bb-482c-c667-ab30ab592495"
      },
      "source": [
        "''' hi hello\n",
        "hihdfodjfl\n",
        "hohdof'''"
      ],
      "execution_count": null,
      "outputs": [
        {
          "output_type": "execute_result",
          "data": {
            "application/vnd.google.colaboratory.intrinsic+json": {
              "type": "string"
            },
            "text/plain": [
              "' hi hello\\nhihdfodjfl\\nhohdof'"
            ]
          },
          "metadata": {},
          "execution_count": 2
        }
      ]
    },
    {
      "cell_type": "code",
      "metadata": {
        "colab": {
          "base_uri": "https://localhost:8080/"
        },
        "id": "RensVnzOcprt",
        "outputId": "b1fa4853-b88f-48e5-97fc-de5d2bab6882"
      },
      "source": [
        "# Basic Mathematical Operations\n",
        "1+2"
      ],
      "execution_count": null,
      "outputs": [
        {
          "output_type": "execute_result",
          "data": {
            "text/plain": [
              "3"
            ]
          },
          "metadata": {},
          "execution_count": 3
        }
      ]
    },
    {
      "cell_type": "code",
      "metadata": {
        "id": "ATYkxf_Bcpr2",
        "colab": {
          "base_uri": "https://localhost:8080/"
        },
        "outputId": "6ce6af60-2ce1-4c2f-8dcc-2e4e7b2631d0"
      },
      "source": [
        "1+3.5"
      ],
      "execution_count": null,
      "outputs": [
        {
          "output_type": "execute_result",
          "data": {
            "text/plain": [
              "4.5"
            ]
          },
          "metadata": {},
          "execution_count": 4
        }
      ]
    },
    {
      "cell_type": "code",
      "metadata": {
        "id": "ObO-5BOBcpr3",
        "outputId": "2f21adb4-4ef3-4c12-e804-261de66bad37"
      },
      "source": [
        "-1+3.5"
      ],
      "execution_count": null,
      "outputs": [
        {
          "output_type": "execute_result",
          "data": {
            "text/plain": [
              "2.5"
            ]
          },
          "metadata": {
            "tags": []
          },
          "execution_count": 3
        }
      ]
    },
    {
      "cell_type": "code",
      "metadata": {
        "id": "USo0BFNAcpr3",
        "outputId": "5f627cb9-6e60-4c6f-e786-c822dff9abbc"
      },
      "source": [
        "3*3"
      ],
      "execution_count": null,
      "outputs": [
        {
          "output_type": "execute_result",
          "data": {
            "text/plain": [
              "9"
            ]
          },
          "metadata": {
            "tags": []
          },
          "execution_count": 4
        }
      ]
    },
    {
      "cell_type": "code",
      "metadata": {
        "id": "uBwv2awAcpr3",
        "outputId": "adf49554-fb2b-4a77-be2a-d5b539ec5512"
      },
      "source": [
        "    3/2"
      ],
      "execution_count": null,
      "outputs": [
        {
          "output_type": "execute_result",
          "data": {
            "text/plain": [
              "1.5"
            ]
          },
          "metadata": {
            "tags": []
          },
          "execution_count": 5
        }
      ]
    },
    {
      "cell_type": "code",
      "metadata": {
        "id": "5dgyQG26cpr4",
        "colab": {
          "base_uri": "https://localhost:8080/"
        },
        "outputId": "273901b3-5800-441f-e64c-4dda15d023db"
      },
      "source": [
        "4/2"
      ],
      "execution_count": null,
      "outputs": [
        {
          "output_type": "execute_result",
          "data": {
            "text/plain": [
              "2.0"
            ]
          },
          "metadata": {},
          "execution_count": 1
        }
      ]
    },
    {
      "cell_type": "code",
      "metadata": {
        "id": "_jBh_Ll6cpr4",
        "outputId": "e78a602c-ddbc-42a5-ed7c-57f43af0ed06"
      },
      "source": [
        "# floor division operator\n",
        "print(3//2)\n",
        "print(-3//2)  # -3/2 is -1.5 so floor is -2"
      ],
      "execution_count": null,
      "outputs": [
        {
          "output_type": "stream",
          "text": [
            "1\n",
            "-2\n"
          ],
          "name": "stdout"
        }
      ]
    },
    {
      "cell_type": "code",
      "metadata": {
        "id": "kmW0IqyCcpr5",
        "outputId": "a15d6d7a-edbd-4c7f-f72e-732470e1ac43"
      },
      "source": [
        "# modulus\n",
        "9%2"
      ],
      "execution_count": null,
      "outputs": [
        {
          "output_type": "execute_result",
          "data": {
            "text/plain": [
              "1"
            ]
          },
          "metadata": {
            "tags": []
          },
          "execution_count": 8
        }
      ]
    },
    {
      "cell_type": "code",
      "metadata": {
        "id": "9uFwNx3Lcpr5",
        "outputId": "51cea097-b6f1-429d-825d-5baa4c2a4241"
      },
      "source": [
        "# exponential\n",
        "2**5"
      ],
      "execution_count": null,
      "outputs": [
        {
          "output_type": "execute_result",
          "data": {
            "text/plain": [
              "32"
            ]
          },
          "metadata": {
            "tags": []
          },
          "execution_count": 9
        }
      ]
    },
    {
      "cell_type": "code",
      "metadata": {
        "id": "qjzpbZwNcpr5",
        "outputId": "b232d403-8b56-4558-bc78-30da01bb0e1a"
      },
      "source": [
        "8**(1/3)"
      ],
      "execution_count": null,
      "outputs": [
        {
          "output_type": "execute_result",
          "data": {
            "text/plain": [
              "2.0"
            ]
          },
          "metadata": {
            "tags": []
          },
          "execution_count": 10
        }
      ]
    },
    {
      "cell_type": "code",
      "metadata": {
        "id": "uhlcebQOcpr6",
        "outputId": "d9df3362-60d1-430d-c3d3-fc9cc7c5104f"
      },
      "source": [
        "print(5+5*5)\n",
        "print((5+5)*5)"
      ],
      "execution_count": null,
      "outputs": [
        {
          "output_type": "stream",
          "text": [
            "30\n",
            "50\n"
          ],
          "name": "stdout"
        }
      ]
    },
    {
      "cell_type": "code",
      "metadata": {
        "id": "Bqpxnhzxcpr6",
        "outputId": "4d0d18d1-957c-4dfe-bb9b-83cd0e0d6a47"
      },
      "source": [
        "#assigning values\n",
        "a=5\n",
        "print(a)"
      ],
      "execution_count": null,
      "outputs": [
        {
          "output_type": "stream",
          "text": [
            "5\n"
          ],
          "name": "stdout"
        }
      ]
    },
    {
      "cell_type": "code",
      "metadata": {
        "id": "yOGVTQKhcpr6",
        "colab": {
          "base_uri": "https://localhost:8080/"
        },
        "outputId": "6bc8ef04-f6d1-43a0-82b4-3703a8d8aac9"
      },
      "source": [
        "#kinds of numbers\n",
        "type(3)"
      ],
      "execution_count": null,
      "outputs": [
        {
          "output_type": "execute_result",
          "data": {
            "text/plain": [
              "int"
            ]
          },
          "metadata": {},
          "execution_count": 2
        }
      ]
    },
    {
      "cell_type": "code",
      "metadata": {
        "id": "HI271iQbcpr6",
        "colab": {
          "base_uri": "https://localhost:8080/"
        },
        "outputId": "f52fc6e2-0bb8-4901-dff4-697b7656d559"
      },
      "source": [
        "type(4.3)"
      ],
      "execution_count": null,
      "outputs": [
        {
          "output_type": "execute_result",
          "data": {
            "text/plain": [
              "float"
            ]
          },
          "metadata": {},
          "execution_count": 3
        }
      ]
    },
    {
      "cell_type": "code",
      "metadata": {
        "id": "Jlqybx80cpr6",
        "colab": {
          "base_uri": "https://localhost:8080/"
        },
        "outputId": "1e108d4b-d7b1-4efa-e1e5-c0505d273615"
      },
      "source": [
        "int(4.3)"
      ],
      "execution_count": null,
      "outputs": [
        {
          "output_type": "execute_result",
          "data": {
            "text/plain": [
              "4"
            ]
          },
          "metadata": {},
          "execution_count": 4
        }
      ]
    },
    {
      "cell_type": "code",
      "metadata": {
        "id": "9wY5f7Iecpr7",
        "colab": {
          "base_uri": "https://localhost:8080/"
        },
        "outputId": "5956977c-6297-4b37-d2ee-a1812eb46126"
      },
      "source": [
        "type(int(4.3))"
      ],
      "execution_count": null,
      "outputs": [
        {
          "output_type": "execute_result",
          "data": {
            "text/plain": [
              "int"
            ]
          },
          "metadata": {},
          "execution_count": 5
        }
      ]
    },
    {
      "cell_type": "code",
      "metadata": {
        "colab": {
          "base_uri": "https://localhost:8080/"
        },
        "id": "v9S8GbApcpr7",
        "outputId": "b0480666-9218-47a2-9298-5732e1c65b72"
      },
      "source": [
        "a = float(3)\n",
        "print(a)"
      ],
      "execution_count": null,
      "outputs": [
        {
          "output_type": "stream",
          "text": [
            "3.0\n"
          ],
          "name": "stdout"
        }
      ]
    },
    {
      "cell_type": "code",
      "metadata": {
        "id": "xxyaB4UGcpr7"
      },
      "source": [
        "# Working with fractions\n",
        "from fractions import Fraction\n",
        "f = Fraction(1,2)"
      ],
      "execution_count": null,
      "outputs": []
    },
    {
      "cell_type": "code",
      "metadata": {
        "id": "dtJnGOH6cpr7",
        "colab": {
          "base_uri": "https://localhost:8080/"
        },
        "outputId": "e88f0e52-d9a5-4931-e8ee-57c8a257efb9"
      },
      "source": [
        "print(f)\n",
        "a = Fraction(1/2)\n",
        "print(a)"
      ],
      "execution_count": null,
      "outputs": [
        {
          "output_type": "stream",
          "text": [
            "1/2\n",
            "1/2\n"
          ],
          "name": "stdout"
        }
      ]
    },
    {
      "cell_type": "code",
      "metadata": {
        "id": "8INk41sBcpr8",
        "colab": {
          "base_uri": "https://localhost:8080/"
        },
        "outputId": "6c250f50-46d9-4d2b-bfd0-0a464cae6bf9"
      },
      "source": [
        "Fraction(3,4)+9"
      ],
      "execution_count": null,
      "outputs": [
        {
          "output_type": "execute_result",
          "data": {
            "text/plain": [
              "Fraction(39, 4)"
            ]
          },
          "metadata": {},
          "execution_count": 9
        }
      ]
    },
    {
      "cell_type": "code",
      "metadata": {
        "id": "4JnHJVtqcpr8",
        "colab": {
          "base_uri": "https://localhost:8080/"
        },
        "outputId": "28da5d5d-fdc3-4b6b-c160-5e7b1d22a8fc"
      },
      "source": [
        "Fraction(3,4) + 9 + 1.5"
      ],
      "execution_count": null,
      "outputs": [
        {
          "output_type": "execute_result",
          "data": {
            "text/plain": [
              "11.25"
            ]
          },
          "metadata": {},
          "execution_count": 10
        }
      ]
    },
    {
      "cell_type": "code",
      "metadata": {
        "id": "-x-02dCLcpr8",
        "outputId": "d2698a60-96a1-4ff3-b25a-e22845f8dac5"
      },
      "source": [
        "Fraction(3,4) + 9 + 1.25"
      ],
      "execution_count": null,
      "outputs": [
        {
          "output_type": "execute_result",
          "data": {
            "text/plain": [
              "11.0"
            ]
          },
          "metadata": {
            "tags": []
          },
          "execution_count": 23
        }
      ]
    },
    {
      "cell_type": "code",
      "metadata": {
        "id": "CMqhiI1kcpr8",
        "outputId": "78d372b5-d7a0-48dc-bf55-aada06ee0be6"
      },
      "source": [
        "Fraction(3/4)+ Fraction(1/4)"
      ],
      "execution_count": null,
      "outputs": [
        {
          "output_type": "execute_result",
          "data": {
            "text/plain": [
              "Fraction(1, 1)"
            ]
          },
          "metadata": {
            "tags": []
          },
          "execution_count": 24
        }
      ]
    },
    {
      "cell_type": "code",
      "metadata": {
        "id": "22N1IFw3cpr8",
        "colab": {
          "base_uri": "https://localhost:8080/"
        },
        "outputId": "90f3f77c-650b-471a-9bcf-12551273858d"
      },
      "source": [
        "# complex numbers\n",
        "a= 2 + 3j\n",
        "print(type(a))\n",
        "print(a)"
      ],
      "execution_count": null,
      "outputs": [
        {
          "output_type": "stream",
          "text": [
            "<class 'complex'>\n",
            "(2+3j)\n"
          ],
          "name": "stdout"
        }
      ]
    },
    {
      "cell_type": "code",
      "metadata": {
        "id": "7cVhXz94cpr9",
        "colab": {
          "base_uri": "https://localhost:8080/"
        },
        "outputId": "68b81ed7-ccd9-49c4-adb8-2b537252f2b5"
      },
      "source": [
        "# another way\n",
        "a = complex (2,3)\n",
        "print(a)\n",
        "print(type(a))"
      ],
      "execution_count": null,
      "outputs": [
        {
          "output_type": "stream",
          "text": [
            "(2+3j)\n",
            "<class 'complex'>\n"
          ],
          "name": "stdout"
        }
      ]
    },
    {
      "cell_type": "code",
      "metadata": {
        "id": "kvDyWAA6cpr9",
        "outputId": "357c5877-33f1-4a72-f47c-d1d6bfbf8b4d"
      },
      "source": [
        "b = 4j + 2\n",
        "print(a+b)"
      ],
      "execution_count": null,
      "outputs": [
        {
          "output_type": "stream",
          "text": [
            "(4+7j)\n"
          ],
          "name": "stdout"
        }
      ]
    },
    {
      "cell_type": "code",
      "metadata": {
        "id": "p0NPIeDMcpr9",
        "colab": {
          "base_uri": "https://localhost:8080/",
          "height": 180
        },
        "outputId": "2925b5f0-dfd3-4c28-9415-1a7590bbc2c8"
      },
      "source": [
        "# reversing the directions\n",
        "c = 2 + j4"
      ],
      "execution_count": null,
      "outputs": [
        {
          "output_type": "error",
          "ename": "NameError",
          "evalue": "ignored",
          "traceback": [
            "\u001b[0;31m---------------------------------------------------------------------------\u001b[0m",
            "\u001b[0;31mNameError\u001b[0m                                 Traceback (most recent call last)",
            "\u001b[0;32m<ipython-input-4-4315e2e18aeb>\u001b[0m in \u001b[0;36m<module>\u001b[0;34m()\u001b[0m\n\u001b[1;32m      1\u001b[0m \u001b[0;31m# reversing the directions\u001b[0m\u001b[0;34m\u001b[0m\u001b[0;34m\u001b[0m\u001b[0;34m\u001b[0m\u001b[0m\n\u001b[0;32m----> 2\u001b[0;31m \u001b[0mc\u001b[0m \u001b[0;34m=\u001b[0m \u001b[0;36m2\u001b[0m \u001b[0;34m+\u001b[0m \u001b[0mj4\u001b[0m\u001b[0;34m\u001b[0m\u001b[0;34m\u001b[0m\u001b[0m\n\u001b[0m",
            "\u001b[0;31mNameError\u001b[0m: name 'j4' is not defined"
          ]
        }
      ]
    },
    {
      "cell_type": "code",
      "metadata": {
        "id": "SkjCTNOEcpr9",
        "outputId": "99140d35-042f-4841-fbef-61e8d58dec1b"
      },
      "source": [
        "print(a-b)\n",
        "print(a*b)\n",
        "print(a/b)"
      ],
      "execution_count": null,
      "outputs": [
        {
          "output_type": "stream",
          "text": [
            "-1j\n",
            "(-8+14j)\n",
            "(0.8-0.1j)\n"
          ],
          "name": "stdout"
        }
      ]
    },
    {
      "cell_type": "code",
      "metadata": {
        "id": "IwuT1s3scpr9",
        "outputId": "6208386f-1f44-4039-90f4-847258aa3794"
      },
      "source": [
        "print(a.real)  # a = 2 + 3 j\n",
        "print(a.imag)"
      ],
      "execution_count": null,
      "outputs": [
        {
          "output_type": "stream",
          "text": [
            "2.0\n",
            "3.0\n"
          ],
          "name": "stdout"
        }
      ]
    },
    {
      "cell_type": "code",
      "metadata": {
        "id": "P8iUH4Oxcpr9",
        "outputId": "a20a964f-498e-48f4-ed3d-2570c38e80a1"
      },
      "source": [
        "# to find conjugate of complex: real parts remain same while in imagniary magnitude remains same with opposite sign\n",
        "print(a)\n",
        "print(a.conjugate())"
      ],
      "execution_count": null,
      "outputs": [
        {
          "output_type": "stream",
          "text": [
            "(2+3j)\n",
            "(2-3j)\n"
          ],
          "name": "stdout"
        }
      ]
    },
    {
      "cell_type": "code",
      "metadata": {
        "id": "lakZ_vOhcpr-",
        "outputId": "1a31400e-fdbe-4168-9d96-9446ec1b82f7"
      },
      "source": [
        "# to find mangnitude of complex number\n",
        "(a.real**2 + a.imag**2)**0.5"
      ],
      "execution_count": null,
      "outputs": [
        {
          "output_type": "execute_result",
          "data": {
            "text/plain": [
              "3.605551275463989"
            ]
          },
          "metadata": {
            "tags": []
          },
          "execution_count": 8
        }
      ]
    },
    {
      "cell_type": "code",
      "metadata": {
        "id": "OzCrOoFEcpr-",
        "outputId": "6beb4f47-8cbf-46bd-c969-29f5eb7790be"
      },
      "source": [
        "# absulute value (squareroot(square of number))\n",
        "print(abs(5))\n",
        "print(abs(-5))\n",
        "print(abs(5.2))\n",
        "print(abs(a))   # complex number a, i.e. magnitude"
      ],
      "execution_count": null,
      "outputs": [
        {
          "output_type": "stream",
          "text": [
            "5\n",
            "5\n",
            "5.2\n",
            "3.605551275463989\n"
          ],
          "name": "stdout"
        }
      ]
    },
    {
      "cell_type": "code",
      "metadata": {
        "id": "EhWCzOpGcpr-",
        "colab": {
          "base_uri": "https://localhost:8080/"
        },
        "outputId": "77cb7356-8195-47d1-cfd0-53c04ad817b5"
      },
      "source": [
        "# getting user input\n",
        "a = input()\n",
        "print(a)"
      ],
      "execution_count": null,
      "outputs": [
        {
          "output_type": "stream",
          "text": [
            "3\n",
            "3\n"
          ],
          "name": "stdout"
        }
      ]
    },
    {
      "cell_type": "code",
      "metadata": {
        "colab": {
          "base_uri": "https://localhost:8080/"
        },
        "id": "UDayY0tyEPWa",
        "outputId": "7fccc741-0a6b-4cfc-a73b-7b6980d02555"
      },
      "source": [
        "a = float(input())\n",
        "type(a)"
      ],
      "execution_count": null,
      "outputs": [
        {
          "output_type": "stream",
          "text": [
            "4.5\n"
          ],
          "name": "stdout"
        },
        {
          "output_type": "execute_result",
          "data": {
            "text/plain": [
              "float"
            ]
          },
          "metadata": {},
          "execution_count": 11
        }
      ]
    },
    {
      "cell_type": "code",
      "metadata": {
        "id": "ddhk5MPscpr-",
        "outputId": "20b86bfe-b56e-4e4b-ebb1-897324f6e4cb"
      },
      "source": [
        "a = \"string a\"\n",
        "b = 'string a'\n",
        "# u can use either '  or  \"  interchangebly\n",
        "print(a,b)"
      ],
      "execution_count": null,
      "outputs": [
        {
          "output_type": "stream",
          "text": [
            "string a string a\n"
          ],
          "name": "stdout"
        }
      ]
    },
    {
      "cell_type": "code",
      "metadata": {
        "id": "2NcPW_5Vcpr_",
        "colab": {
          "base_uri": "https://localhost:8080/"
        },
        "outputId": "780fb7c8-4a37-4b7b-c031-217d0b22464d"
      },
      "source": [
        "a ='1'\n",
        "type(a)"
      ],
      "execution_count": null,
      "outputs": [
        {
          "output_type": "execute_result",
          "data": {
            "text/plain": [
              "str"
            ]
          },
          "metadata": {},
          "execution_count": 12
        }
      ]
    },
    {
      "cell_type": "code",
      "metadata": {
        "id": "Mkc8wh54cpr_",
        "colab": {
          "base_uri": "https://localhost:8080/"
        },
        "outputId": "9a1dd0dc-2e90-4d68-ae5d-b4bbfd2268af"
      },
      "source": [
        "type(int(a))"
      ],
      "execution_count": null,
      "outputs": [
        {
          "output_type": "execute_result",
          "data": {
            "text/plain": [
              "int"
            ]
          },
          "metadata": {},
          "execution_count": 13
        }
      ]
    },
    {
      "cell_type": "code",
      "metadata": {
        "id": "PJeedVjHcpr_",
        "outputId": "1d438e7f-1a8a-4975-822d-ffbc8c4c147d"
      },
      "source": [
        "print(int(a) + 1)"
      ],
      "execution_count": null,
      "outputs": [
        {
          "output_type": "stream",
          "text": [
            "2\n"
          ],
          "name": "stdout"
        }
      ]
    },
    {
      "cell_type": "code",
      "metadata": {
        "id": "HkY_bI54cpr_",
        "outputId": "e43a9ebc-7069-4e60-ab8c-5bb76f30a7b3"
      },
      "source": [
        "print(float(a) + 1)"
      ],
      "execution_count": null,
      "outputs": [
        {
          "output_type": "stream",
          "text": [
            "2.0\n"
          ],
          "name": "stdout"
        }
      ]
    },
    {
      "cell_type": "code",
      "metadata": {
        "id": "M6KAyo_wcpsA",
        "outputId": "c09723f3-0b4e-47d1-e5f3-47369833c310"
      },
      "source": [
        "# but\n",
        "print(int('1.0'))"
      ],
      "execution_count": null,
      "outputs": [
        {
          "output_type": "error",
          "ename": "ValueError",
          "evalue": "invalid literal for int() with base 10: '1.0'",
          "traceback": [
            "\u001b[1;31m---------------------------------------------------------------------------\u001b[0m",
            "\u001b[1;31mValueError\u001b[0m                                Traceback (most recent call last)",
            "\u001b[1;32m<ipython-input-18-1a36adea5eea>\u001b[0m in \u001b[0;36m<module>\u001b[1;34m\u001b[0m\n\u001b[0;32m      1\u001b[0m \u001b[1;31m# but\u001b[0m\u001b[1;33m\u001b[0m\u001b[1;33m\u001b[0m\u001b[1;33m\u001b[0m\u001b[0m\n\u001b[1;32m----> 2\u001b[1;33m \u001b[0mprint\u001b[0m\u001b[1;33m(\u001b[0m\u001b[0mint\u001b[0m\u001b[1;33m(\u001b[0m\u001b[1;34m'1.0'\u001b[0m\u001b[1;33m)\u001b[0m\u001b[1;33m)\u001b[0m\u001b[1;33m\u001b[0m\u001b[1;33m\u001b[0m\u001b[0m\n\u001b[0m",
            "\u001b[1;31mValueError\u001b[0m: invalid literal for int() with base 10: '1.0'"
          ]
        }
      ]
    },
    {
      "cell_type": "code",
      "metadata": {
        "id": "gCXShjvGcpsA",
        "outputId": "7d06ad3d-963d-4bf2-cb5d-3cd2aaf53540"
      },
      "source": [
        "def factors(b):\n",
        "    for i in range(1, b+1):\n",
        "        if b % i == 0:\n",
        "            print(i)\n",
        "if __name__ == '__main__':\n",
        "    b = input('Your Number Please: ')\n",
        "    b = float(b)\n",
        "    if b > 0 and b.is_integer():\n",
        "        factors(int(b))\n",
        "    else:\n",
        "        print('Please enter a positive integer')"
      ],
      "execution_count": null,
      "outputs": [
        {
          "output_type": "stream",
          "text": [
            "Your Number Please:  32\n"
          ],
          "name": "stdin"
        },
        {
          "output_type": "stream",
          "text": [
            "1\n",
            "2\n",
            "4\n",
            "8\n",
            "16\n",
            "32\n"
          ],
          "name": "stdout"
        }
      ]
    },
    {
      "cell_type": "code",
      "metadata": {
        "id": "eQidpUPNcpsA",
        "outputId": "a775d2d3-e4d1-4030-b1bd-628aa13633d8"
      },
      "source": [
        "# understand the __main__\n",
        "factors(45)"
      ],
      "execution_count": null,
      "outputs": [
        {
          "output_type": "stream",
          "text": [
            "1\n",
            "3\n",
            "5\n",
            "9\n",
            "15\n",
            "45\n"
          ],
          "name": "stdout"
        }
      ]
    },
    {
      "cell_type": "code",
      "metadata": {
        "id": "WJZMgXwecpsA",
        "outputId": "62f88655-a4f0-4140-c27b-1f5b0c155b22"
      },
      "source": [
        "# Multipliction Table\n",
        "def multi_table(a):\n",
        "    for i in range(1, 11):\n",
        "        print('{0} x {1} = {2}'.format(a, i, a*i))\n",
        "if __name__ == '__main__':\n",
        "    a = input('Enter a number: ')\n",
        "    multi_table(float(a))"
      ],
      "execution_count": null,
      "outputs": [
        {
          "output_type": "stream",
          "text": [
            "Enter a number:  8\n"
          ],
          "name": "stdin"
        },
        {
          "output_type": "stream",
          "text": [
            "8.0 x 1 = 8.0\n",
            "8.0 x 2 = 16.0\n",
            "8.0 x 3 = 24.0\n",
            "8.0 x 4 = 32.0\n",
            "8.0 x 5 = 40.0\n",
            "8.0 x 6 = 48.0\n",
            "8.0 x 7 = 56.0\n",
            "8.0 x 8 = 64.0\n",
            "8.0 x 9 = 72.0\n",
            "8.0 x 10 = 80.0\n"
          ],
          "name": "stdout"
        }
      ]
    },
    {
      "cell_type": "code",
      "metadata": {
        "id": "0AEYpyHecpsA",
        "outputId": "2c141612-0b7f-49d9-c815-1ca275711a57"
      },
      "source": [
        "#Quadratic equation root calculator\n",
        "def roots(a, b, c):\n",
        "    D = (b*b - 4*a*c)**0.5\n",
        "    x_1 = (-b + D)/(2*a)\n",
        "    x_2 = (-b - D)/(2*a)\n",
        "    print('x1: {0}'.format(x_1))\n",
        "    print('x2: {0}'.format(x_2))\n",
        "if __name__ == '__main__':\n",
        "    a = input('Enter a: ')\n",
        "    b = input('Enter b: ')\n",
        "    c = input('Enter c: ')\n",
        "    roots(float(a), float(b), float(c))\n",
        "# x**2 +2x + 4"
      ],
      "execution_count": null,
      "outputs": [
        {
          "output_type": "stream",
          "text": [
            "Enter a:  1\n",
            "Enter b:  2\n",
            "Enter c:  4\n"
          ],
          "name": "stdin"
        },
        {
          "output_type": "stream",
          "text": [
            "x1: (-0.9999999999999999+1.7320508075688772j)\n",
            "x2: (-1-1.7320508075688772j)\n"
          ],
          "name": "stdout"
        }
      ]
    },
    {
      "cell_type": "code",
      "metadata": {
        "id": "IJjdrfbUcpsB"
      },
      "source": [],
      "execution_count": null,
      "outputs": []
    }
  ]
}
