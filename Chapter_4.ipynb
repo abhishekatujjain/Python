{
  "cells": [
    {
      "cell_type": "markdown",
      "metadata": {
        "id": "view-in-github",
        "colab_type": "text"
      },
      "source": [
        "<a href=\"https://colab.research.google.com/github/abhishekatujjain/Python/blob/master/Chapter_4.ipynb\" target=\"_parent\"><img src=\"https://colab.research.google.com/assets/colab-badge.svg\" alt=\"Open In Colab\"/></a>"
      ]
    },
    {
      "cell_type": "code",
      "execution_count": null,
      "metadata": {
        "id": "QJva8petuLNu",
        "outputId": "cc6e58fb-3781-4e85-86b4-9aeae1233664"
      },
      "outputs": [
        {
          "data": {
            "text/plain": [
              "2*x + 1"
            ]
          },
          "execution_count": 2,
          "metadata": {},
          "output_type": "execute_result"
        }
      ],
      "source": [
        "# defining symbols\n",
        "from sympy import Symbol\n",
        "x = Symbol('x')\n",
        "x + x + 1"
      ]
    },
    {
      "cell_type": "code",
      "execution_count": null,
      "metadata": {
        "id": "oZ4iIgwDuLN2",
        "outputId": "3b3bd2ac-7b45-4d5c-e5cd-6ac4933267df"
      },
      "outputs": [
        {
          "data": {
            "text/plain": [
              "x**2 + 3*x + 1"
            ]
          },
          "execution_count": 3,
          "metadata": {},
          "output_type": "execute_result"
        }
      ],
      "source": [
        "a = Symbol('x')\n",
        "a*a+3*a+1"
      ]
    },
    {
      "cell_type": "code",
      "execution_count": null,
      "metadata": {
        "id": "wTRezVlhuLN5",
        "outputId": "c1a25075-3011-4f8f-f16a-2c66ca7ad6fc"
      },
      "outputs": [
        {
          "data": {
            "text/plain": [
              "'x'"
            ]
          },
          "execution_count": 4,
          "metadata": {},
          "output_type": "execute_result"
        }
      ],
      "source": [
        "a.name"
      ]
    },
    {
      "cell_type": "code",
      "execution_count": null,
      "metadata": {
        "id": "WHyrXyWyuLN7"
      },
      "outputs": [],
      "source": [
        "x = Symbol('x')\n",
        "y = Symbol('y')\n",
        "z = Symbol('z')\n",
        "\n",
        "# or the shorter method, use symbols() instead of Symbol()\n",
        "from sympy import symbols\n",
        "x,y,z = symbols('x,y,z')"
      ]
    },
    {
      "cell_type": "code",
      "execution_count": null,
      "metadata": {
        "id": "-cnbYBwguLN8",
        "outputId": "9a683c7b-377d-4843-c715-b29f02f33eea"
      },
      "outputs": [
        {
          "name": "stdout",
          "output_type": "stream",
          "text": [
            "(x - y)*(x + y)\n",
            "(x + y)**2\n"
          ]
        }
      ],
      "source": [
        "#Factorizing and Expanding Expressions\n",
        "from sympy import factor\n",
        "expr = x**2 - y**2\n",
        "print(factor(expr))\n",
        "print(factor(x**2 + y**2 + 2*x*y))"
      ]
    },
    {
      "cell_type": "code",
      "execution_count": null,
      "metadata": {
        "id": "GyOGv3tbuLN-",
        "outputId": "7b41caaf-a90f-4092-a6d9-4c8296d2001e"
      },
      "outputs": [
        {
          "name": "stdout",
          "output_type": "stream",
          "text": [
            "x**2 + 2*x*y + y**2\n",
            "x**2 - y**2\n"
          ]
        }
      ],
      "source": [
        "from sympy import expand\n",
        "print(expand((x+y)**2))\n",
        "print(expand((x-y)*(x+y)))"
      ]
    },
    {
      "cell_type": "code",
      "execution_count": null,
      "metadata": {
        "id": "4wwUlH1VuLN_",
        "outputId": "177f50a6-612f-49cc-f872-3d2ea34f0850"
      },
      "outputs": [
        {
          "name": "stdout",
          "output_type": "stream",
          "text": [
            " 2            2\n",
            "x  + 2⋅x⋅y + y \n"
          ]
        }
      ],
      "source": [
        "# Pretty Printing\n",
        "expr = x*x + 2*x*y + y*y\n",
        "from sympy import pprint\n",
        "pprint(expr)"
      ]
    },
    {
      "cell_type": "code",
      "execution_count": null,
      "metadata": {
        "id": "csis-wn1uLOB",
        "outputId": "4ad52ecd-3f0c-46dc-9e5e-2ebbf68286f5"
      },
      "outputs": [
        {
          "name": "stdin",
          "output_type": "stream",
          "text": [
            "Enter the number of terms you want in the series:  6\n"
          ]
        },
        {
          "name": "stdout",
          "output_type": "stream",
          "text": [
            " 6    5    4    3    2    \n",
            "x    x    x    x    x     \n",
            "── + ── + ── + ── + ── + x\n",
            "6    5    4    3    2     \n"
          ]
        }
      ],
      "source": [
        "# printing series\n",
        "from sympy import Symbol, pprint, init_printing\n",
        "def print_series(n):\n",
        "    # Initialize printing system with reverse order\n",
        "    #init_printing(order='rev-lex')\n",
        "    x = Symbol('x')\n",
        "    series = x\n",
        "    for i in range(2, n+1):\n",
        "        series = series + (x**i)/i\n",
        "    pprint(series)\n",
        "if __name__ == '__main__':\n",
        "    n = input('Enter the number of terms you want in the series: ')\n",
        "    print_series(int(n))\n"
      ]
    },
    {
      "cell_type": "code",
      "execution_count": null,
      "metadata": {
        "id": "Y2iExBxGuLOC",
        "outputId": "0b8c54b7-458d-469b-a5ae-1d4d613ec455"
      },
      "outputs": [
        {
          "name": "stdout",
          "output_type": "stream",
          "text": [
            "9\n",
            "25\n",
            "49\n",
            "81\n",
            "121\n",
            "169\n",
            "225\n",
            "289\n",
            "361\n"
          ]
        }
      ],
      "source": [
        "# Substituting in Values\n",
        "expr = x*x + x*y + x*y + y*y\n",
        "for i in range(1,10):\n",
        "    res = expr.subs({x:i, y:i+1})\n",
        "    print(res)"
      ]
    },
    {
      "cell_type": "code",
      "execution_count": null,
      "metadata": {
        "id": "rWHrwC4WuLOE",
        "outputId": "1f6a50ca-235b-42f3-a477-fd1acd59fbc5"
      },
      "outputs": [
        {
          "data": {
            "image/png": "[encoded data removed]",
            "text/latex": [
              "$$y^{2} + 2 y \\left(- y + 1\\right) + \\left(- y + 1\\right)^{2}$$"
            ],
            "text/plain": [
              "       2                  2\n",
              "(1 - y)  + 2⋅y⋅(1 - y) + y "
            ]
          },
          "execution_count": 30,
          "metadata": {},
          "output_type": "execute_result"
        }
      ],
      "source": [
        "expr.subs({x:1-y})"
      ]
    },
    {
      "cell_type": "code",
      "execution_count": null,
      "metadata": {
        "id": "za7YooPeuLOG",
        "outputId": "b32a16b1-d2b5-4ff8-b43d-31f2617dc083"
      },
      "outputs": [
        {
          "data": {
            "image/png": "[encoded data removed]",
            "text/latex": [
              "$$1$$"
            ],
            "text/plain": [
              "1"
            ]
          },
          "execution_count": 31,
          "metadata": {},
          "output_type": "execute_result"
        }
      ],
      "source": [
        "# further simplify\n",
        "expr_subs = expr.subs({x:1-y})\n",
        "from sympy import simplify\n",
        "simplify(expr_subs)"
      ]
    },
    {
      "cell_type": "code",
      "execution_count": null,
      "metadata": {
        "id": "XoeG_A2uuLOG",
        "outputId": "a2b3a1e6-6dc3-4e0e-d5a9-299b1601811d"
      },
      "outputs": [
        {
          "name": "stdin",
          "output_type": "stream",
          "text": [
            "Enter the number of terms you want in the series:  6\n",
            "Enter the value of x at which you want to evaluate the series:  8\n"
          ]
        },
        {
          "name": "stdout",
          "output_type": "stream",
          "text": [
            " 6    5    4    3    2    \n",
            "x    x    x    x    x     \n",
            "── + ── + ── + ── + ── + x\n",
            "6    5    4    3    2     \n",
            "Value of the series at 8.0: 51478.9333333333\n"
          ]
        }
      ],
      "source": [
        "# calculating the value of series\n",
        "from sympy import Symbol, pprint, init_printing\n",
        "def print_series(n, x_value):\n",
        "    # Initialize printing system with reverse order\n",
        "    init_printing(order='rev-lex')\n",
        "    x = Symbol('x')\n",
        "    series = x\n",
        "    for i in range(2, n+1):\n",
        "        series = series + (x**i)/i\n",
        "    pprint(series)\n",
        "\n",
        "    # Evaluate the series at x_value\n",
        "    series_value = series.subs({x:x_value})\n",
        "    print('Value of the series at {0}: {1}'.format(x_value, series_value))\n",
        "if __name__ == '__main__':\n",
        "    n = input('Enter the number of terms you want in the series: ')\n",
        "    x_value = input('Enter the value of x at which you want to evaluate the series: ')\n",
        "    print_series(int(n), float(x_value))"
      ]
    },
    {
      "cell_type": "code",
      "execution_count": null,
      "metadata": {
        "id": "0obCiUwfuLOH"
      },
      "outputs": [],
      "source": [
        "# converting strings to expression\n",
        "from sympy import sympify\n",
        "expr = input('Enter a mathematical expression: ')"
      ]
    },
    {
      "cell_type": "code",
      "execution_count": null,
      "metadata": {
        "id": "mm6-cVnpuLOI"
      },
      "outputs": [],
      "source": [
        "from sympy import sympify\n",
        "expr = input('Enter a mathematical expression: ')"
      ]
    },
    {
      "cell_type": "code",
      "execution_count": null,
      "metadata": {
        "id": "isBUqXvLuLOI",
        "outputId": "0ef90c37-a29a-4ced-fb11-b5b946fa5c51"
      },
      "outputs": [
        {
          "name": "stdin",
          "output_type": "stream",
          "text": [
            "Enter a mathematical expression:  3\n"
          ]
        }
      ],
      "source": [
        "from sympy import sympify\n",
        "from sympy.core.sympify import SympifyError\n",
        "expr = input('Enter a mathematical expression: ')\n",
        "try:\n",
        "    expr = sympify(expr)\n",
        "except SympifyError:\n",
        "    print('Invalid input')"
      ]
    },
    {
      "cell_type": "code",
      "execution_count": null,
      "metadata": {
        "id": "QbSDfqPZuLOI",
        "outputId": "599d4a59-c93a-4855-aa94-329d1b1c6fdb"
      },
      "outputs": [
        {
          "name": "stdout",
          "output_type": "stream",
          "text": [
            "3\n"
          ]
        }
      ],
      "source": [
        "print(expr)"
      ]
    },
    {
      "cell_type": "code",
      "execution_count": null,
      "metadata": {
        "id": "tH0BP8GtuLOJ",
        "outputId": "68b983da-24ad-4d2c-ee4e-aea2315fdcb1"
      },
      "outputs": [
        {
          "name": "stdin",
          "output_type": "stream",
          "text": [
            "Enter the first expression:  x + 1\n",
            "Enter the second expression:  x -1\n"
          ]
        },
        {
          "name": "stdout",
          "output_type": "stream",
          "text": [
            "x**2 - 1\n"
          ]
        }
      ],
      "source": [
        "# Expression Multiplier\n",
        "from sympy import expand, sympify\n",
        "from sympy.core.sympify import SympifyError\n",
        "def product(expr1, expr2):\n",
        "    prod = expand(expr1*expr2)\n",
        "    print(prod)\n",
        "if __name__=='__main__':\n",
        "    expr1 = input('Enter the first expression: ')\n",
        "    expr2 = input('Enter the second expression: ')\n",
        "    try:\n",
        "        expr1 = sympify(expr1)\n",
        "        expr2 = sympify(expr2)\n",
        "    except SympifyError:\n",
        "        print('Invalid input')\n",
        "    else:\n",
        "        product(expr1, expr2)"
      ]
    },
    {
      "cell_type": "code",
      "execution_count": null,
      "metadata": {
        "id": "ZZZzEYYmuLOK",
        "outputId": "a43bfb3d-8df5-449c-a960-962bd7fd21ef"
      },
      "outputs": [
        {
          "data": {
            "text/plain": [
              "[12]"
            ]
          },
          "execution_count": 3,
          "metadata": {},
          "output_type": "execute_result"
        }
      ],
      "source": [
        "# Solving Equations\n",
        "from sympy import Symbol, solve\n",
        "x = Symbol('x')\n",
        "expr = x - 5 - 7\n",
        "solve(expr)"
      ]
    },
    {
      "cell_type": "code",
      "execution_count": null,
      "metadata": {
        "id": "yR-lTnWAuLOK",
        "outputId": "1b0bab2e-33d1-466d-9bfb-fcbfb0ae3729"
      },
      "outputs": [
        {
          "data": {
            "text/plain": [
              "[-I, I]"
            ]
          },
          "execution_count": 11,
          "metadata": {},
          "output_type": "execute_result"
        }
      ],
      "source": [
        "solve(x**2 +1)"
      ]
    },
    {
      "cell_type": "code",
      "execution_count": null,
      "metadata": {
        "id": "zooF4AYluLOK",
        "outputId": "f735f45d-c95e-4d72-9dad-cf9cde8d70a5"
      },
      "outputs": [
        {
          "data": {
            "text/plain": [
              "[{x: (-b + sqrt(-4*a*c + b**2))/(2*a)}, {x: -(b + sqrt(-4*a*c + b**2))/(2*a)}]"
            ]
          },
          "execution_count": 4,
          "metadata": {},
          "output_type": "execute_result"
        }
      ],
      "source": [
        "# Solving for One Variable in Terms of Others\n",
        "x = Symbol('x')\n",
        "a = Symbol('a')\n",
        "b = Symbol('b')\n",
        "c = Symbol('c')\n",
        "expr = a*x*x + b*x + c\n",
        "solve(expr, x, dict=True)"
      ]
    },
    {
      "cell_type": "code",
      "execution_count": null,
      "metadata": {
        "id": "KZvpkfGruLOL",
        "outputId": "42a8aabe-4cc2-4c02-fe97-2618ac64c8f7"
      },
      "outputs": [
        {
          "data": {
            "text/plain": [
              "[(-b + sqrt(-4*a*c + b**2))/(2*a), -(b + sqrt(-4*a*c + b**2))/(2*a)]"
            ]
          },
          "execution_count": 5,
          "metadata": {},
          "output_type": "execute_result"
        }
      ],
      "source": [
        "solve(expr, x, dict=False)"
      ]
    },
    {
      "cell_type": "code",
      "execution_count": null,
      "metadata": {
        "id": "UrNywLQJuLOM",
        "outputId": "70529d52-272a-4556-e696-ed13f964933c"
      },
      "outputs": [
        {
          "data": {
            "text/plain": [
              "[{x: 48/5, y: -42/5}]"
            ]
          },
          "execution_count": 11,
          "metadata": {},
          "output_type": "execute_result"
        }
      ],
      "source": [
        "# Solving a System of Linear Equations\n",
        "x = Symbol('x')\n",
        "y = Symbol('y')\n",
        "expr1 = 2*x + 3*y + 6\n",
        "expr2 = 3*x + 2*y - 12\n",
        "solve((expr1, expr2), dict=True)"
      ]
    },
    {
      "cell_type": "code",
      "execution_count": null,
      "metadata": {
        "id": "j7cN1nLwuLOM",
        "outputId": "fc0d2b98-7b33-4146-8160-1c11b2ead16f"
      },
      "outputs": [
        {
          "name": "stdout",
          "output_type": "stream",
          "text": [
            "0\n",
            "0\n"
          ]
        }
      ],
      "source": [
        "# checking solutions where correct or not, put the values of x and y in equation\n",
        "soln = solve((expr1, expr2), dict=True)\n",
        "soln = soln[0]\n",
        "print(expr1.subs({x:soln[x], y:soln[y]}))\n",
        "print(expr2.subs({x:soln[x], y:soln[y]}))"
      ]
    },
    {
      "cell_type": "code",
      "execution_count": null,
      "metadata": {
        "id": "xMvDjgrEuLON",
        "outputId": "9d6ebb1c-fb0b-429d-c58a-653eb8de4d22"
      },
      "outputs": [
        {
          "data": {
            "image/png": "[encoded data removed]",
            "text/plain": [
              "<Figure size 432x288 with 1 Axes>"
            ]
          },
          "metadata": {
            "needs_background": "light"
          },
          "output_type": "display_data"
        },
        {
          "data": {
            "text/plain": [
              "<sympy.plotting.plot.Plot at 0xa814bfd550>"
            ]
          },
          "execution_count": 15,
          "metadata": {},
          "output_type": "execute_result"
        }
      ],
      "source": [
        "# Plotting using sympy\n",
        "from sympy.plotting import plot\n",
        "from sympy import Symbol\n",
        "x = Symbol('x')\n",
        "plot(2*x+3)\n"
      ]
    },
    {
      "cell_type": "code",
      "execution_count": null,
      "metadata": {
        "id": "sPOrP9V_uLON",
        "outputId": "3be424a6-dce3-4f13-9485-9e50c05636ee"
      },
      "outputs": [
        {
          "data": {
            "image/png": "[encoded data removed]",
            "text/plain": [
              "<Figure size 432x288 with 1 Axes>"
            ]
          },
          "metadata": {
            "needs_background": "light"
          },
          "output_type": "display_data"
        },
        {
          "data": {
            "text/plain": [
              "<sympy.plotting.plot.Plot at 0xa8146cc470>"
            ]
          },
          "execution_count": 16,
          "metadata": {},
          "output_type": "execute_result"
        }
      ],
      "source": [
        "plot(x**2)"
      ]
    },
    {
      "cell_type": "code",
      "execution_count": null,
      "metadata": {
        "id": "QecaAaWeuLOO",
        "outputId": "fb2b2d5f-e104-406d-9b74-488aba3766d0"
      },
      "outputs": [
        {
          "data": {
            "image/png": "[encoded data removed]",
            "text/plain": [
              "<Figure size 432x288 with 1 Axes>"
            ]
          },
          "metadata": {
            "needs_background": "light"
          },
          "output_type": "display_data"
        },
        {
          "data": {
            "text/plain": [
              "<sympy.plotting.plot.Plot at 0xa814a7ff98>"
            ]
          },
          "execution_count": 20,
          "metadata": {},
          "output_type": "execute_result"
        }
      ],
      "source": [
        "y = Symbol('y')\n",
        "plot(2*x**2)"
      ]
    },
    {
      "cell_type": "code",
      "execution_count": null,
      "metadata": {
        "id": "Aey8Pg10uLOO",
        "outputId": "e44f5269-b088-4387-ddcf-2c2dbf85f10e"
      },
      "outputs": [
        {
          "data": {
            "image/png": "[encoded data removed]",
            "text/plain": [
              "<Figure size 432x288 with 1 Axes>"
            ]
          },
          "metadata": {
            "needs_background": "light"
          },
          "output_type": "display_data"
        },
        {
          "data": {
            "text/plain": [
              "<sympy.plotting.plot.Plot at 0xa814653be0>"
            ]
          },
          "execution_count": 21,
          "metadata": {},
          "output_type": "execute_result"
        }
      ],
      "source": [
        "# limit the value of x\n",
        "plot((2*x + 3), (x, -5, 5))"
      ]
    },
    {
      "cell_type": "code",
      "execution_count": null,
      "metadata": {
        "id": "9Cg0agJ2uLOP",
        "outputId": "153dc87a-b7b7-4fce-e9c5-de1678edd3cf"
      },
      "outputs": [
        {
          "data": {
            "image/png": "[encoded data removed]",
            "text/plain": [
              "<Figure size 432x288 with 1 Axes>"
            ]
          },
          "metadata": {
            "needs_background": "light"
          },
          "output_type": "display_data"
        },
        {
          "data": {
            "text/plain": [
              "<sympy.plotting.plot.Plot at 0xa814d82278>"
            ]
          },
          "execution_count": 22,
          "metadata": {},
          "output_type": "execute_result"
        }
      ],
      "source": [
        "plot(2*x + 3, (x, -5, 5), title='A Line', xlabel='x', ylabel='2x+3')"
      ]
    },
    {
      "cell_type": "code",
      "execution_count": null,
      "metadata": {
        "id": "TwOjAuJOuLOP",
        "outputId": "1e9e3004-bee4-44d8-f858-70f57ea166d8"
      },
      "outputs": [
        {
          "data": {
            "image/png": "[encoded data removed]",
            "text/plain": [
              "<Figure size 432x288 with 1 Axes>"
            ]
          },
          "metadata": {
            "needs_background": "light"
          },
          "output_type": "display_data"
        }
      ],
      "source": [
        "# not to disply used for saving only, put show = False\n",
        "p = plot(2*x + 3, (x, -5, 5), title='A Line', xlabel='x', ylabel='2x+3', show=False)  # in notebool you will have graph\n",
        "p.save('line.png')"
      ]
    },
    {
      "cell_type": "code",
      "execution_count": null,
      "metadata": {
        "id": "G_gJYW2CuLOQ",
        "outputId": "b0616e67-516b-4f26-9af8-4f4f89b57c0f"
      },
      "outputs": [
        {
          "name": "stdin",
          "output_type": "stream",
          "text": [
            "Enter your expression in terms of x and y:  x + y**2 + y*2\n"
          ]
        },
        {
          "name": "stdout",
          "output_type": "stream",
          "text": [
            "x + y**2 + 2*y\n",
            "[-sqrt(-x + 1) - 1, sqrt(-x + 1) - 1]\n"
          ]
        },
        {
          "data": {
            "image/png": "[encoded data removed]",
            "text/plain": [
              "<Figure size 432x288 with 1 Axes>"
            ]
          },
          "metadata": {
            "needs_background": "light"
          },
          "output_type": "display_data"
        }
      ],
      "source": [
        "from sympy import Symbol, sympify, solve\n",
        "from sympy.plotting import plot\n",
        "def plot_expression(expr):\n",
        "    x = Symbol('x')\n",
        "    y = Symbol('y')\n",
        "    solutions = solve(expr, y)\n",
        "    print(solutions)\n",
        "    expr_y = solutions[0]\n",
        "    plot(expr_y)\n",
        "if __name__=='__main__':\n",
        "    expr = input('Enter your expression in terms of x and y: ')\n",
        "    try:\n",
        "        expr = sympify(expr)\n",
        "        print(expr)\n",
        "    except SympifyError:\n",
        "        print('Invalid input')\n",
        "    else:\n",
        "        plot_expression(expr)"
      ]
    },
    {
      "cell_type": "code",
      "execution_count": null,
      "metadata": {
        "id": "3vg_0dJ9uLOQ",
        "outputId": "69d499d3-de87-466c-e802-003913b295b3"
      },
      "outputs": [
        {
          "data": {
            "image/png": "[encoded data removed]",
            "text/plain": [
              "<Figure size 432x288 with 1 Axes>"
            ]
          },
          "metadata": {
            "needs_background": "light"
          },
          "output_type": "display_data"
        },
        {
          "data": {
            "text/plain": [
              "<sympy.plotting.plot.Plot at 0xa816a787f0>"
            ]
          },
          "execution_count": 29,
          "metadata": {},
          "output_type": "execute_result"
        }
      ],
      "source": [
        "# Plotting Multiple Functions\n",
        "from sympy.plotting import plot\n",
        "from sympy import Symbol\n",
        "x = Symbol('x')\n",
        "plot(2*x+3, 3*x+1)"
      ]
    },
    {
      "cell_type": "code",
      "execution_count": null,
      "metadata": {
        "id": "0e_NrKzQuLOR",
        "outputId": "97451b2d-06d9-402d-e06f-4c62ffd018e0"
      },
      "outputs": [
        {
          "data": {
            "image/png": "[encoded data removed]",
            "text/plain": [
              "<Figure size 432x288 with 1 Axes>"
            ]
          },
          "metadata": {
            "needs_background": "light"
          },
          "output_type": "display_data"
        }
      ],
      "source": [
        "# with some decorations\n",
        "from sympy.plotting import plot\n",
        "from sympy import Symbol\n",
        "x = Symbol('x')\n",
        "p = plot(2*x+3, 3*x+1, legend=True, show=False)\n",
        "p[0].line_color = 'b'\n",
        "p[1].line_color = 'r'\n",
        "p.show()"
      ]
    },
    {
      "cell_type": "code",
      "execution_count": null,
      "metadata": {
        "id": "aNN5cHkuuLOR"
      },
      "outputs": [],
      "source": []
    }
  ],
  "metadata": {
    "kernelspec": {
      "display_name": "Python 3",
      "language": "python",
      "name": "python3"
    },
    "language_info": {
      "codemirror_mode": {
        "name": "ipython",
        "version": 3
      },
      "file_extension": ".py",
      "mimetype": "text/x-python",
      "name": "python",
      "nbconvert_exporter": "python",
      "pygments_lexer": "ipython3",
      "version": "3.7.3"
    },
    "colab": {
      "provenance": [],
      "include_colab_link": true
    }
  },
  "nbformat": 4,
  "nbformat_minor": 0
}